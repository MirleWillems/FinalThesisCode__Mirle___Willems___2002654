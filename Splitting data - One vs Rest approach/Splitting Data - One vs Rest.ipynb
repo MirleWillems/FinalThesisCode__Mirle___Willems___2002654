{
 "cells": [
  {
   "cell_type": "code",
   "execution_count": null,
   "metadata": {},
   "outputs": [],
   "source": [
    "import glob\n",
    "import pandas as pd\n",
    "import numpy as np\n",
    "import os\n",
    "import os.path\n",
    "from PIL import Image"
   ]
  },
  {
   "cell_type": "markdown",
   "metadata": {},
   "source": [
    "## Capuchon"
   ]
  },
  {
   "cell_type": "code",
   "execution_count": null,
   "metadata": {
    "scrolled": true
   },
   "outputs": [],
   "source": [
    "df_labels_capuchon = pd.read_csv(\"Capuchon.csv\")\n",
    "df_labels_capuchon"
   ]
  },
  {
   "cell_type": "code",
   "execution_count": null,
   "metadata": {
    "scrolled": true
   },
   "outputs": [],
   "source": [
    "df_yes = df_labels_capuchon[df_labels_capuchon['classes'] == 'Yes']\n",
    "\n",
    "df_no = df_labels_capuchon[df_labels_capuchon['classes'] == 'No']\n",
    "\n",
    "df_no"
   ]
  },
  {
   "cell_type": "code",
   "execution_count": null,
   "metadata": {
    "scrolled": true
   },
   "outputs": [],
   "source": [
    "df_labels_capuchon['file_name']"
   ]
  },
  {
   "cell_type": "code",
   "execution_count": null,
   "metadata": {},
   "outputs": [],
   "source": [
    "f = r'C:/Users/mirle.willems/Documents/StyleGAN/stylegan/zalando_dataset_filtered_2'\n",
    "final_path_capuchon_yes = r'C:/Users/mirle.willems/Documents/CLASSIFIER DATA/Capuchon/input_dataset/Capuchon - Yes/'\n",
    "\n",
    "for file in os.listdir(f):\n",
    "    if file in set(df_yes['file_name']):\n",
    "        f_img = f+\"/\"+file\n",
    "        c_img = Image.open(f_img)\n",
    "        c_img.save(final_path_capuchon_yes+file+'.jpg')"
   ]
  },
  {
   "cell_type": "code",
   "execution_count": null,
   "metadata": {},
   "outputs": [],
   "source": [
    "f = r'C:/Users/mirle.willems/Documents/StyleGAN/stylegan/zalando_dataset_filtered_2'\n",
    "final_path_capuchon_no = r'C:/Users/mirle.willems/Documents/CLASSIFIER DATA/Capuchon/input_dataset/Capuchon - No/'\n",
    "\n",
    "for file in os.listdir(f):\n",
    "    if file in set(df_no['file_name']):\n",
    "        f_img = f+\"/\"+file\n",
    "        c_img = Image.open(f_img)\n",
    "        c_img.save(final_path_capuchon_no+file+'.jpg')"
   ]
  },
  {
   "cell_type": "markdown",
   "metadata": {},
   "source": [
    "# Closures"
   ]
  },
  {
   "cell_type": "code",
   "execution_count": null,
   "metadata": {
    "scrolled": true
   },
   "outputs": [],
   "source": [
    "df_labels_closure = pd.read_csv(\"Closure.csv\")\n",
    "df_labels_closure"
   ]
  },
  {
   "cell_type": "markdown",
   "metadata": {},
   "source": [
    "## Closure - Buttons"
   ]
  },
  {
   "cell_type": "code",
   "execution_count": null,
   "metadata": {
    "scrolled": false
   },
   "outputs": [],
   "source": [
    "df_button = df_labels_closure[df_labels_closure['classes'] == 'Buttons']\n",
    "\n",
    "df_no_button = df_labels_closure[df_labels_closure['classes'] != 'Buttons']\n"
   ]
  },
  {
   "cell_type": "code",
   "execution_count": null,
   "metadata": {},
   "outputs": [],
   "source": [
    "f = r'C:/Users/mirle.willems/Documents/StyleGAN/stylegan/zalando_dataset_filtered_2'\n",
    "final_path_button_yes = r'C:/Users/mirle.willems/Documents/CLASSIFIER DATA/Closures/Closure - Button/input_dataset/Button - Yes/'\n",
    "\n",
    "for file in os.listdir(f):\n",
    "    if file in set(df_button['file_name']):\n",
    "        f_img = f+\"/\"+file\n",
    "        c_img = Image.open(f_img)\n",
    "        c_img.save(final_path_button_yes+file+'.jpg')"
   ]
  },
  {
   "cell_type": "code",
   "execution_count": null,
   "metadata": {},
   "outputs": [],
   "source": [
    "f = r'C:/Users/mirle.willems/Documents/StyleGAN/stylegan/zalando_dataset_filtered_2'\n",
    "final_path_button_no = r'C:/Users/mirle.willems/Documents/CLASSIFIER DATA/Closures/Closure - Button/input_dataset/Button - No/'\n",
    "\n",
    "for file in os.listdir(f):\n",
    "    if file in set(df_no_button['file_name']):\n",
    "        f_img = f+\"/\"+file\n",
    "        c_img = Image.open(f_img)\n",
    "        c_img.save(final_path_button_no+file+'.jpg')"
   ]
  },
  {
   "cell_type": "markdown",
   "metadata": {},
   "source": [
    "## Closure - Zipper"
   ]
  },
  {
   "cell_type": "code",
   "execution_count": null,
   "metadata": {
    "scrolled": true
   },
   "outputs": [],
   "source": [
    "df_zipper = df_labels_closure[df_labels_closure['classes'] == 'Zipper']\n",
    "\n",
    "df_no_zipper = df_labels_closure[df_labels_closure['classes'] != 'Zipper']\n",
    "\n",
    "df_zipper"
   ]
  },
  {
   "cell_type": "code",
   "execution_count": null,
   "metadata": {},
   "outputs": [],
   "source": [
    "f = r'C:/Users/mirle.willems/Documents/StyleGAN/stylegan/zalando_dataset_filtered_2'\n",
    "final_path_zipper_yes = r'C:/Users/mirle.willems/Documents/CLASSIFIER DATA/Closures/Closure - Zipper/input_dataset/Zipper - Yes/'\n",
    "\n",
    "for file in os.listdir(f):\n",
    "    if file in set(df_zipper['file_name']):\n",
    "        f_img = f+\"/\"+file\n",
    "        c_img = Image.open(f_img)\n",
    "        c_img.save(final_path_zipper_yes+file+'.jpg')"
   ]
  },
  {
   "cell_type": "code",
   "execution_count": null,
   "metadata": {},
   "outputs": [],
   "source": [
    "f = r'C:/Users/mirle.willems/Documents/StyleGAN/stylegan/zalando_dataset_filtered_2'\n",
    "final_path_zipper_no = r'C:/Users/mirle.willems/Documents/CLASSIFIER DATA/Closures/Closure - Zipper/input_dataset/Zipper - No/'\n",
    "\n",
    "for file in os.listdir(f):\n",
    "    if file in set(df_no_zipper['file_name']):\n",
    "        f_img = f+\"/\"+file\n",
    "        c_img = Image.open(f_img)\n",
    "        c_img.save(final_path_zipper_no+file+'.jpg')"
   ]
  },
  {
   "cell_type": "markdown",
   "metadata": {},
   "source": [
    "## Closure - Hidden Zipper"
   ]
  },
  {
   "cell_type": "code",
   "execution_count": null,
   "metadata": {
    "scrolled": true
   },
   "outputs": [],
   "source": [
    "df_hidden_zipper = df_labels_closure[df_labels_closure['classes'] == 'Hidden zipper']\n",
    "\n",
    "df_no_hidden_zipper = df_labels_closure[df_labels_closure['classes'] != 'Hidden zipper']\n",
    "\n",
    "df_hidden_zipper"
   ]
  },
  {
   "cell_type": "code",
   "execution_count": null,
   "metadata": {},
   "outputs": [],
   "source": [
    "f = r'C:/Users/mirle.willems/Documents/StyleGAN/stylegan/zalando_dataset_filtered_2'\n",
    "final_path_hidden_zipper_yes = r'C:/Users/mirle.willems/Documents/CLASSIFIER DATA/Closures/Closure - Hidden zipper/input_dataset/Hidden zipper - Yes/'\n",
    "\n",
    "for file in os.listdir(f):\n",
    "    if file in set(df_hidden_zipper['file_name']):\n",
    "        f_img = f+\"/\"+file\n",
    "        c_img = Image.open(f_img)\n",
    "        c_img.save(final_path_hidden_zipper_yes+file+'.jpg')"
   ]
  },
  {
   "cell_type": "code",
   "execution_count": null,
   "metadata": {},
   "outputs": [],
   "source": [
    "f = r'C:/Users/mirle.willems/Documents/StyleGAN/stylegan/zalando_dataset_filtered_2'\n",
    "final_path__hidden_zipper_no = r'C:/Users/mirle.willems/Documents/CLASSIFIER DATA/Closures/Closure - Hidden zipper/input_dataset/Hidden zipper - No/'\n",
    "\n",
    "for file in os.listdir(f):\n",
    "    if file in set(df_no_hidden_zipper['file_name']):\n",
    "        f_img = f+\"/\"+file\n",
    "        c_img = Image.open(f_img)\n",
    "        c_img.save(final_path__hidden_zipper_no+file+'.jpg')"
   ]
  },
  {
   "cell_type": "markdown",
   "metadata": {},
   "source": [
    "## Waistband"
   ]
  },
  {
   "cell_type": "code",
   "execution_count": null,
   "metadata": {},
   "outputs": [],
   "source": [
    "df_waistband = df_labels_closure[df_labels_closure['classes'] == 'Waistband']\n",
    "\n",
    "df_no_waistband = df_labels_closure[df_labels_closure['classes'] != 'Waistband']\n",
    "\n",
    "df_waistband"
   ]
  },
  {
   "cell_type": "code",
   "execution_count": null,
   "metadata": {},
   "outputs": [],
   "source": [
    "f = r'C:/Users/mirle.willems/Documents/StyleGAN/stylegan/zalando_dataset_filtered_2'\n",
    "final_path_waistband_yes = r'C:/Users/mirle.willems/Documents/CLASSIFIER DATA/Closures/Closure - Waistband/input_dataset/Waistband - Yes/'\n",
    "\n",
    "for file in os.listdir(f):\n",
    "    if file in set(df_waistband['file_name']):\n",
    "        f_img = f+\"/\"+file\n",
    "        c_img = Image.open(f_img)\n",
    "        c_img.save(final_path_waistband_yes+file+'.jpg')"
   ]
  },
  {
   "cell_type": "code",
   "execution_count": null,
   "metadata": {},
   "outputs": [],
   "source": [
    "f = r'C:/Users/mirle.willems/Documents/StyleGAN/stylegan/zalando_dataset_filtered_2'\n",
    "final_path__waistband_no = r'C:/Users/mirle.willems/Documents/CLASSIFIER DATA/Closures/Closure - Waistband/input_dataset/Waistband - No/'\n",
    "\n",
    "for file in os.listdir(f):\n",
    "    if file in set(df_no_waistband['file_name']):\n",
    "        f_img = f+\"/\"+file\n",
    "        c_img = Image.open(f_img)\n",
    "        c_img.save(final_path__waistband_no+file+'.jpg')"
   ]
  },
  {
   "cell_type": "markdown",
   "metadata": {},
   "source": [
    "## Other"
   ]
  },
  {
   "cell_type": "code",
   "execution_count": null,
   "metadata": {
    "scrolled": true
   },
   "outputs": [],
   "source": [
    "df_other = df_labels_closure[df_labels_closure['classes'] == 'Other']\n",
    "\n",
    "df_no_other = df_labels_closure[df_labels_closure['classes'] != 'Other']\n",
    "\n",
    "df_no_other"
   ]
  },
  {
   "cell_type": "code",
   "execution_count": null,
   "metadata": {},
   "outputs": [],
   "source": [
    "f = r'C:/Users/mirle.willems/Documents/StyleGAN/stylegan/zalando_dataset_filtered_2'\n",
    "final_path_other_yes = r'C:/Users/mirle.willems/Documents/CLASSIFIER DATA/Closures/Closure - Other/input_dataset/Other - Yes/'\n",
    "\n",
    "for file in os.listdir(f):\n",
    "    if file in set(df_other['file_name']):\n",
    "        f_img = f+\"/\"+file\n",
    "        c_img = Image.open(f_img)\n",
    "        c_img.save(final_path_other_yes+file+'.jpg')"
   ]
  },
  {
   "cell_type": "code",
   "execution_count": null,
   "metadata": {},
   "outputs": [],
   "source": [
    "f = r'C:/Users/mirle.willems/Documents/StyleGAN/stylegan/zalando_dataset_filtered_2'\n",
    "final_path__other_no = r'C:/Users/mirle.willems/Documents/CLASSIFIER DATA/Closures/Closure - Other/input_dataset/Other - No/'\n",
    "\n",
    "for file in os.listdir(f):\n",
    "    if file in set(df_no_other['file_name']):\n",
    "        f_img = f+\"/\"+file\n",
    "        c_img = Image.open(f_img)\n",
    "        c_img.save(final_path__other_no+file+'.jpg')"
   ]
  },
  {
   "cell_type": "markdown",
   "metadata": {},
   "source": [
    "## None - closed"
   ]
  },
  {
   "cell_type": "code",
   "execution_count": null,
   "metadata": {
    "scrolled": true
   },
   "outputs": [],
   "source": [
    "df_none_closed = df_labels_closure[df_labels_closure['classes'] == 'None - closed']\n",
    "\n",
    "df_no_none_closed = df_labels_closure[df_labels_closure['classes'] != 'None - closed']\n",
    "\n",
    "df_none_closed"
   ]
  },
  {
   "cell_type": "code",
   "execution_count": null,
   "metadata": {},
   "outputs": [],
   "source": [
    "f = r'C:/Users/mirle.willems/Documents/StyleGAN/stylegan/zalando_dataset_filtered_2'\n",
    "final_path_none_closed_yes = r'C:/Users/mirle.willems/Documents/CLASSIFIER DATA/Closures/Closure - None closed/input_dataset/None closed - Yes/'\n",
    "\n",
    "for file in os.listdir(f):\n",
    "    if file in set(df_none_closed['file_name']):\n",
    "        f_img = f+\"/\"+file\n",
    "        c_img = Image.open(f_img)\n",
    "        c_img.save(final_path_none_closed_yes+file+'.jpg')"
   ]
  },
  {
   "cell_type": "code",
   "execution_count": null,
   "metadata": {},
   "outputs": [],
   "source": [
    "f = r'C:/Users/mirle.willems/Documents/StyleGAN/stylegan/zalando_dataset_filtered_2'\n",
    "final_path__none_closed_no = r'C:/Users/mirle.willems/Documents/CLASSIFIER DATA/Closures/Closure - None closed/input_dataset/None closed - No/'\n",
    "\n",
    "for file in os.listdir(f):\n",
    "    if file in set(df_no_none_closed['file_name']):\n",
    "        f_img = f+\"/\"+file\n",
    "        c_img = Image.open(f_img)\n",
    "        c_img.save(final_path__none_closed_no+file+'.jpg')"
   ]
  },
  {
   "cell_type": "markdown",
   "metadata": {},
   "source": [
    "## Open front"
   ]
  },
  {
   "cell_type": "code",
   "execution_count": null,
   "metadata": {
    "scrolled": true
   },
   "outputs": [],
   "source": [
    "df_open_front = df_labels_closure[df_labels_closure['classes'] == 'Open front']\n",
    "\n",
    "df_no_open_front = df_labels_closure[df_labels_closure['classes'] != 'Open front']\n",
    "\n",
    "df_open_front"
   ]
  },
  {
   "cell_type": "code",
   "execution_count": null,
   "metadata": {},
   "outputs": [],
   "source": [
    "f = r'C:/Users/mirle.willems/Documents/StyleGAN/stylegan/zalando_dataset_filtered_2'\n",
    "final_path_open_front_yes = r'C:/Users/mirle.willems/Documents/CLASSIFIER DATA/Closures/Closure - Open front/input_dataset/Open front - Yes/'\n",
    "\n",
    "for file in os.listdir(f):\n",
    "    if file in set(df_open_front['file_name']):\n",
    "        f_img = f+\"/\"+file\n",
    "        c_img = Image.open(f_img)\n",
    "        c_img.save(final_path_open_front_yes+file+'.jpg')"
   ]
  },
  {
   "cell_type": "code",
   "execution_count": null,
   "metadata": {},
   "outputs": [],
   "source": [
    "f = r'C:/Users/mirle.willems/Documents/StyleGAN/stylegan/zalando_dataset_filtered_2'\n",
    "final_path__open_front_no = r'C:/Users/mirle.willems/Documents/CLASSIFIER DATA/Closures/Closure - Open front/input_dataset/Open front - No/'\n",
    "\n",
    "for file in os.listdir(f):\n",
    "    if file in set(df_no_open_front['file_name']):\n",
    "        f_img = f+\"/\"+file\n",
    "        c_img = Image.open(f_img)\n",
    "        c_img.save(final_path__open_front_no+file+'.jpg')"
   ]
  },
  {
   "cell_type": "markdown",
   "metadata": {},
   "source": [
    "# Length"
   ]
  },
  {
   "cell_type": "code",
   "execution_count": null,
   "metadata": {},
   "outputs": [],
   "source": [
    "df_labels_length = pd.read_csv(\"Length.csv\")\n",
    "df_labels_length"
   ]
  },
  {
   "cell_type": "markdown",
   "metadata": {},
   "source": [
    "## Hip length"
   ]
  },
  {
   "cell_type": "code",
   "execution_count": null,
   "metadata": {},
   "outputs": [],
   "source": [
    "df_hip_length = df_labels_length[df_labels_length['classes'] == 'Hip length']\n",
    "\n",
    "df_no_hip_length = df_labels_length[df_labels_length['classes'] != 'Hip length']\n",
    "\n",
    "df_hip_length"
   ]
  },
  {
   "cell_type": "code",
   "execution_count": null,
   "metadata": {},
   "outputs": [],
   "source": [
    "f = r'//drive/Algemeen/Interns/Mirle Willems/zalando_dataset_filtered_2'\n",
    "final_path_hip_length_yes = r'\\\\DRIVE/Algemeen/Interns/Mirle Willems/CLASSIFIER DATA/Length/Length - Hip length/input_dataset/Hip length - Yes/'\n",
    "\n",
    "for file in os.listdir(f):\n",
    "    if file in set(df_hip_length['file_name']):\n",
    "        f_img = f+\"/\"+file\n",
    "        c_img = Image.open(f_img)\n",
    "        c_img.save(final_path_hip_length_yes+file+'.jpg')"
   ]
  },
  {
   "cell_type": "code",
   "execution_count": null,
   "metadata": {},
   "outputs": [],
   "source": [
    "f = r'//drive/Algemeen/Interns/Mirle Willems/zalando_dataset_filtered_2'\n",
    "final_path__hip_length_no = r'\\\\DRIVE/Algemeen/Interns/Mirle Willems/CLASSIFIER DATA/Length/Length - Hip length/input_dataset/Hip length - No/'\n",
    "for file in os.listdir(f):\n",
    "    if file in set(df_no_hip_length['file_name']):\n",
    "        f_img = f+\"/\"+file\n",
    "        c_img = Image.open(f_img)\n",
    "        c_img.save(final_path__hip_length_no+file+'.jpg')"
   ]
  },
  {
   "cell_type": "markdown",
   "metadata": {},
   "source": [
    "## Above hip length"
   ]
  },
  {
   "cell_type": "code",
   "execution_count": null,
   "metadata": {},
   "outputs": [],
   "source": [
    "df_above_hip_length = df_labels_length[df_labels_length['classes'] == 'Above hip length']\n",
    "\n",
    "df_no_above_hip_length = df_labels_length[df_labels_length['classes'] != 'Above hip length']\n",
    "\n",
    "df_above_hip_length"
   ]
  },
  {
   "cell_type": "code",
   "execution_count": null,
   "metadata": {},
   "outputs": [],
   "source": [
    "f = r'//drive/Algemeen/Interns/Mirle Willems/zalando_dataset_filtered_2'\n",
    "final_path_above_hip_length_yes = r'\\\\DRIVE/Algemeen/Interns/Mirle Willems/CLASSIFIER DATA/Length/Length - Above hip length/input_dataset/Above hip length - Yes/'\n",
    "\n",
    "for file in os.listdir(f):\n",
    "    if file in set(df_above_hip_length['file_name']):\n",
    "        f_img = f+\"/\"+file\n",
    "        c_img = Image.open(f_img)\n",
    "        c_img.save(final_path_above_hip_length_yes+file+'.jpg')"
   ]
  },
  {
   "cell_type": "code",
   "execution_count": null,
   "metadata": {},
   "outputs": [],
   "source": [
    "f = r'//drive/Algemeen/Interns/Mirle Willems/zalando_dataset_filtered_2'\n",
    "final_path_above_hip_length_no = r'\\\\DRIVE/Algemeen/Interns/Mirle Willems/CLASSIFIER DATA/Length/Length - Above hip length/input_dataset/Above hip length - No/'\n",
    "for file in os.listdir(f):\n",
    "    if file in set(df_no_above_hip_length['file_name']):\n",
    "        f_img = f+\"/\"+file\n",
    "        c_img = Image.open(f_img)\n",
    "        c_img.save(final_path_above_hip_length_no+file+'.jpg')"
   ]
  },
  {
   "cell_type": "markdown",
   "metadata": {},
   "source": [
    "## Below hip length"
   ]
  },
  {
   "cell_type": "code",
   "execution_count": null,
   "metadata": {},
   "outputs": [],
   "source": [
    "df_below_hip_length = df_labels_length[df_labels_length['classes'] == 'Below hip length']\n",
    "\n",
    "df_no_below_hip_length = df_labels_length[df_labels_length['classes'] != 'Below hip length']\n",
    "\n",
    "df_below_hip_length"
   ]
  },
  {
   "cell_type": "code",
   "execution_count": null,
   "metadata": {},
   "outputs": [],
   "source": [
    "f = r'//drive/Algemeen/Interns/Mirle Willems/zalando_dataset_filtered_2'\n",
    "final_path_below_hip_length_yes = r'\\\\DRIVE/Algemeen/Interns/Mirle Willems/CLASSIFIER DATA/Length/Length - Below hip length/input_dataset/Below hip length - Yes/'\n",
    "\n",
    "for file in os.listdir(f):\n",
    "    if file in set(df_below_hip_length['file_name']):\n",
    "        f_img = f+\"/\"+file\n",
    "        c_img = Image.open(f_img)\n",
    "        c_img.save(final_path_below_hip_length_yes+file+'.jpg')"
   ]
  },
  {
   "cell_type": "code",
   "execution_count": null,
   "metadata": {},
   "outputs": [],
   "source": [
    "f = r'//drive/Algemeen/Interns/Mirle Willems/zalando_dataset_filtered_2'\n",
    "final_path_below_hip_length_no = r'\\\\DRIVE/Algemeen/Interns/Mirle Willems/CLASSIFIER DATA/Length/Length - Below hip length/input_dataset/Below hip length - No/'\n",
    "for file in os.listdir(f):\n",
    "    if file in set(df_no_below_hip_length['file_name']):\n",
    "        f_img = f+\"/\"+file\n",
    "        c_img = Image.open(f_img)\n",
    "        c_img.save(final_path_below_hip_length_no+file+'.jpg')"
   ]
  },
  {
   "cell_type": "markdown",
   "metadata": {},
   "source": [
    "# STYLE"
   ]
  },
  {
   "cell_type": "code",
   "execution_count": null,
   "metadata": {},
   "outputs": [],
   "source": [
    "df_labels_style = pd.read_csv(\"Style.csv\")\n",
    "df_labels_style = df_labels_style.dropna()\n",
    "df_labels_style"
   ]
  },
  {
   "cell_type": "markdown",
   "metadata": {},
   "source": [
    "## Jeans Jacket"
   ]
  },
  {
   "cell_type": "code",
   "execution_count": null,
   "metadata": {},
   "outputs": [],
   "source": [
    "df_jeans_jacket = df_labels_style[df_labels_style['classes'] == 'Jeans jacket']\n",
    "\n",
    "df_no_jeans_jacket = df_labels_style[df_labels_style['classes'] != 'Jeans jacket']\n",
    "\n",
    "df_jeans_jacket"
   ]
  },
  {
   "cell_type": "code",
   "execution_count": null,
   "metadata": {},
   "outputs": [],
   "source": [
    "f = r'//drive/Algemeen/Interns/Mirle Willems/zalando_dataset_filtered_2'\n",
    "final_path_jeans_jacket_yes = r'//DRIVE/Algemeen/Interns/Mirle Willems/CLASSIFIER DATA/Style/Style - Jeans jacket/input_dataset/Jeans jacket - Yes/'\n",
    "\n",
    "for file in os.listdir(f):\n",
    "    if file in set(df_jeans_jacket['file_name']):\n",
    "        f_img = f+\"/\"+file\n",
    "        c_img = Image.open(f_img)\n",
    "        c_img.save(final_path_jeans_jacket_yes+file+'.jpg')"
   ]
  },
  {
   "cell_type": "code",
   "execution_count": null,
   "metadata": {},
   "outputs": [],
   "source": [
    "f = r'//drive/Algemeen/Interns/Mirle Willems/zalando_dataset_filtered_2'\n",
    "final_path_jeans_jacket_no = r'//DRIVE/Algemeen/Interns/Mirle Willems/CLASSIFIER DATA/Style/Style - Jeans jacket/input_dataset/Jeans jacket - No/'\n",
    "for file in os.listdir(f):\n",
    "    if file in set(df_no_jeans_jacket['file_name']):\n",
    "        f_img = f+\"/\"+file\n",
    "        c_img = Image.open(f_img)\n",
    "        c_img.save(final_path_jeans_jacket_no+file+'.jpg')"
   ]
  },
  {
   "cell_type": "markdown",
   "metadata": {},
   "source": [
    "## Blazer"
   ]
  },
  {
   "cell_type": "code",
   "execution_count": null,
   "metadata": {},
   "outputs": [],
   "source": [
    "df_blazer = df_labels_style[df_labels_style['classes'] == 'Blazer']\n",
    "\n",
    "df_no_blazer = df_labels_style[df_labels_style['classes'] != 'Blazer']\n",
    "\n",
    "df_blazer"
   ]
  },
  {
   "cell_type": "code",
   "execution_count": null,
   "metadata": {},
   "outputs": [],
   "source": [
    "f = r'//drive/Algemeen/Interns/Mirle Willems/zalando_dataset_filtered_2'\n",
    "final_path_blazer_yes = r'//DRIVE/Algemeen/Interns/Mirle Willems/CLASSIFIER DATA/Style/Style - Blazer/input_dataset/Blazer - Yes/'\n",
    "\n",
    "for file in os.listdir(f):\n",
    "    if file in set(df_blazer['file_name']):\n",
    "        f_img = f+\"/\"+file\n",
    "        c_img = Image.open(f_img)\n",
    "        c_img.save(final_path_blazer_yes+file+'.jpg')"
   ]
  },
  {
   "cell_type": "code",
   "execution_count": null,
   "metadata": {},
   "outputs": [],
   "source": [
    "f = r'//drive/Algemeen/Interns/Mirle Willems/zalando_dataset_filtered_2'\n",
    "final_path_blazer_no = r'//DRIVE/Algemeen/Interns/Mirle Willems/CLASSIFIER DATA/Style/Style - Blazer/input_dataset/Blazer - No/'\n",
    "for file in os.listdir(f):\n",
    "    if file in set(df_no_blazer['file_name']):\n",
    "        f_img = f+\"/\"+file\n",
    "        c_img = Image.open(f_img)\n",
    "        c_img.save(final_path_blazer_no+file+'.jpg')"
   ]
  },
  {
   "cell_type": "markdown",
   "metadata": {},
   "source": [
    "## Leather Jacket"
   ]
  },
  {
   "cell_type": "code",
   "execution_count": null,
   "metadata": {},
   "outputs": [],
   "source": [
    "df_leather_jacket = df_labels_style[df_labels_style['classes'] == 'Leather jacket']\n",
    "\n",
    "df_no_leather_jacket = df_labels_style[df_labels_style['classes'] != 'Leather jacket']\n",
    "\n",
    "df_leather_jacket"
   ]
  },
  {
   "cell_type": "code",
   "execution_count": null,
   "metadata": {},
   "outputs": [],
   "source": [
    "f = r'//drive/Algemeen/Interns/Mirle Willems/zalando_dataset_filtered_2'\n",
    "final_path_leather_jacket_yes = r'//DRIVE/Algemeen/Interns/Mirle Willems/CLASSIFIER DATA/Style/Style - Leather jacket/input_dataset/Leather jacket - Yes/'\n",
    "\n",
    "for file in os.listdir(f):\n",
    "    if file in set(df_leather_jacket['file_name']):\n",
    "        f_img = f+\"/\"+file\n",
    "        c_img = Image.open(f_img)\n",
    "        c_img.save(final_path_leather_jacket_yes+file+'.jpg')"
   ]
  },
  {
   "cell_type": "code",
   "execution_count": null,
   "metadata": {},
   "outputs": [],
   "source": [
    "f = r'//drive/Algemeen/Interns/Mirle Willems/zalando_dataset_filtered_2'\n",
    "final_path_leather_jacket_no = r'//DRIVE/Algemeen/Interns/Mirle Willems/CLASSIFIER DATA/Style/Style - Leather jacket/input_dataset/Leather jacket - No/'\n",
    "\n",
    "for file in os.listdir(f):\n",
    "    if file in set(df_no_leather_jacket['file_name']):\n",
    "        f_img = f+\"/\"+file\n",
    "        c_img = Image.open(f_img)\n",
    "        c_img.save(final_path_leather_jacket_no+file+'.jpg')"
   ]
  }
 ],
 "metadata": {
  "kernelspec": {
   "display_name": "Python 3",
   "language": "python",
   "name": "python3"
  },
  "language_info": {
   "codemirror_mode": {
    "name": "ipython",
    "version": 3
   },
   "file_extension": ".py",
   "mimetype": "text/x-python",
   "name": "python",
   "nbconvert_exporter": "python",
   "pygments_lexer": "ipython3",
   "version": "3.8.8"
  }
 },
 "nbformat": 4,
 "nbformat_minor": 2
}
