{
 "cells": [
  {
   "cell_type": "code",
   "execution_count": null,
   "id": "8f5123fe",
   "metadata": {},
   "outputs": [],
   "source": [
    "import pickle\n",
    "import pandas as pd\n",
    "from scipy import spatial\n",
    "\n",
    "import numpy as np\n",
    "import seaborn as sns\n",
    "import matplotlib.pyplot as plt"
   ]
  },
  {
   "cell_type": "code",
   "execution_count": null,
   "id": "ecbc3d99",
   "metadata": {},
   "outputs": [],
   "source": [
    "#Load in Attribute vectors:\n",
    "\n",
    "### HOOD ###\n",
    "hood = '//drive/Algemeen/Interns/Mirle Willems/CLASSIFIER DATA/Capuchon/saved_model/3th ROUND CAPUCHON - 5000 images - 2.500 keep/svm_coef_dlatent.pkl'\n",
    "\n",
    "### BUTTON ###\n",
    "buttons = '//drive/Algemeen/Interns/Mirle Willems/CLASSIFIER DATA/Closures/Closure - Button/saved_model/3th ROUND BUTTON- 5.000 images - 2.500 keep/svm_coef_dlatent.pkl'\n",
    "\n",
    "### BLAZER ###\n",
    "blazer = '//drive/Algemeen/Interns/Mirle Willems/CLASSIFIER DATA/Style/Style - Blazer/saved_model/3th ROUND BLAZER - 5.000 images - 2.500 keep/svm_coef_dlatent.pkl'\n",
    "\n",
    "### LEATHER JACKET ###\n",
    "leather = '//drive/Algemeen/Interns/Mirle Willems/CLASSIFIER DATA/Style/Style - Leather jacket/saved_model/3th ROUND LEATHER JACKET - 5.000 images - 2.500 keep/svm_coef_dlatent.pkl'\n",
    "\n",
    "### JEANS JACKET ###\n",
    "jeans = '//drive/Algemeen/Interns/Mirle Willems/CLASSIFIER DATA/Style/Style - Jeans jacket/saved_model/3th ROUND JEANS JACKET - 5.000 images - 2.500 keep/svm_coef_dlatent.pkl'\n",
    "\n",
    "\n",
    "# Open image dlatent\n",
    "with open(hood, 'rb') as handle:\n",
    "    hood_attribute_vector = pickle.load(handle)\n",
    "    \n",
    "# Open image dlatent\n",
    "with open(buttons, 'rb') as handle:\n",
    "    buttons_attribute_vector = pickle.load(handle)\n",
    "    \n",
    "# Open image dlatent\n",
    "with open(blazer, 'rb') as handle:\n",
    "    blazer_attribute_vector = pickle.load(handle)\n",
    "        \n",
    "# Open image dlatent\n",
    "with open(leather, 'rb') as handle:\n",
    "    leather_attribute_vector = pickle.load(handle)\n",
    "        \n",
    "# Open image dlatent\n",
    "with open(jeans, 'rb') as handle:\n",
    "    jeans_attribute_vector = pickle.load(handle)"
   ]
  },
  {
   "cell_type": "markdown",
   "id": "6d32011e",
   "metadata": {},
   "source": [
    "Compare to cosine correlation"
   ]
  },
  {
   "cell_type": "code",
   "execution_count": null,
   "id": "5c02c359",
   "metadata": {},
   "outputs": [],
   "source": [
    "result = 1 - spatial.distance.cosine(hood_attribute_vector, blazer_attribute_vector)\n",
    "result"
   ]
  },
  {
   "cell_type": "markdown",
   "id": "2b7dbdb9",
   "metadata": {},
   "source": [
    "Create Correlation Matrix"
   ]
  },
  {
   "cell_type": "code",
   "execution_count": null,
   "id": "ea1a8fd0",
   "metadata": {},
   "outputs": [],
   "source": [
    "data = {'hood': hood_attribute_vector[0], 'buttons': buttons_attribute_vector[0], 'blazer': blazer_attribute_vector[0], \n",
    "        'leather jacket': leather_attribute_vector[0], 'jeans jacket': jeans_attribute_vector[0]}\n",
    "\n",
    "df = pd.DataFrame(data, columns =['hood', 'buttons', 'blazer', 'leather jacket', 'jeans jacket'])\n",
    "\n",
    "print(df)\n",
    "\n",
    "corrMatrix = df.corr()\n",
    "print(corrMatrix)"
   ]
  },
  {
   "cell_type": "code",
   "execution_count": null,
   "id": "9d24b2b0",
   "metadata": {},
   "outputs": [],
   "source": [
    "plt.figure(figsize=(16, 6))\n",
    "\n",
    "# define the mask to set the values in the upper triangle to True\n",
    "mask = np.triu(np.ones_like(df.corr(), dtype=np.bool))\n",
    "\n",
    "cmap = sns.diverging_palette(240, 10, as_cmap=True)\n",
    "\n",
    "heatmap = sns.heatmap(df.corr(), mask = mask, vmin=-0.35, vmax=0.35, annot=True, cmap=cmap)\n",
    "\n",
    "#heatmap.set_title('Triangle Correlation Heatmap', fontdict={'fontsize':18}, pad=16);"
   ]
  }
 ],
 "metadata": {
  "kernelspec": {
   "display_name": "Python 3",
   "language": "python",
   "name": "python3"
  },
  "language_info": {
   "codemirror_mode": {
    "name": "ipython",
    "version": 3
   },
   "file_extension": ".py",
   "mimetype": "text/x-python",
   "name": "python",
   "nbconvert_exporter": "python",
   "pygments_lexer": "ipython3",
   "version": "3.8.8"
  }
 },
 "nbformat": 4,
 "nbformat_minor": 5
}
