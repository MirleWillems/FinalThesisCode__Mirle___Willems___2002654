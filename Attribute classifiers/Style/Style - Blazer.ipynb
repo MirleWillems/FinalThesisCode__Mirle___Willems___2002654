{
 "cells": [
  {
   "cell_type": "code",
   "execution_count": null,
   "id": "02bf6466",
   "metadata": {
    "scrolled": true
   },
   "outputs": [],
   "source": [
    "import tensorflow as tf"
   ]
  },
  {
   "cell_type": "code",
   "execution_count": null,
   "id": "1f145a6d",
   "metadata": {},
   "outputs": [],
   "source": [
    "from tensorflow.keras.layers import Conv2D, Flatten, Dense, MaxPool2D, BatchNormalization, GlobalAveragePooling2D\n",
    "from tensorflow.keras.applications.resnet50 import preprocess_input, decode_predictions\n",
    "from tensorflow.keras.preprocessing.image import ImageDataGenerator, load_img\n",
    "from tensorflow.keras.applications.resnet50 import ResNet50\n",
    "from tensorflow.keras.preprocessing import image\n",
    "from tensorflow.keras.models import Sequential, Model\n",
    "from tensorflow.keras.optimizers import Adam\n",
    "import matplotlib.pyplot as plt\n",
    "import numpy as np"
   ]
  },
  {
   "cell_type": "code",
   "execution_count": null,
   "id": "5084470d",
   "metadata": {},
   "outputs": [],
   "source": [
    "import joblib\n",
    "import PIL \n",
    "from PIL import Image\n",
    "import h5py"
   ]
  },
  {
   "cell_type": "code",
   "execution_count": null,
   "id": "7ed8efe5",
   "metadata": {},
   "outputs": [],
   "source": [
    "from tensorflow.keras.callbacks import EarlyStopping"
   ]
  },
  {
   "cell_type": "code",
   "execution_count": null,
   "id": "a1853a5e",
   "metadata": {},
   "outputs": [],
   "source": [
    "tf.keras.backend.set_image_data_format('channels_first')"
   ]
  },
  {
   "cell_type": "code",
   "execution_count": null,
   "id": "b83aca01",
   "metadata": {},
   "outputs": [],
   "source": [
    "def plot_metric(history, metric):\n",
    "    train_metrics = history.history[metric]\n",
    "    val_metrics = history.history['val_'+metric]\n",
    "    epochs = range(1, len(train_metrics) + 1)\n",
    "    plt.plot(epochs, train_metrics)\n",
    "    plt.plot(epochs, val_metrics)\n",
    "    plt.title('Training and validation '+ metric)\n",
    "    plt.xlabel(\"Epochs\")\n",
    "    plt.ylabel(metric)\n",
    "    plt.legend([\"train_\"+metric, 'val_'+metric])\n",
    "    plt.show()"
   ]
  },
  {
   "cell_type": "markdown",
   "id": "308c0196",
   "metadata": {},
   "source": [
    "# Style"
   ]
  },
  {
   "cell_type": "markdown",
   "id": "d85c0f28",
   "metadata": {},
   "source": [
    "## Blazer"
   ]
  },
  {
   "cell_type": "code",
   "execution_count": null,
   "id": "1615495a",
   "metadata": {},
   "outputs": [],
   "source": [
    "img_height, img_width = (512, 512)\n",
    "batch_size = 16\n",
    "\n",
    "train_data_dir = r'//DRIVE/Algemeen/Interns/Mirle Willems/CLASSIFIER DATA/Style/Style - Blazer/processed_data/train'\n",
    "valid_data_dir = r'//DRIVE/Algemeen/Interns/Mirle Willems/CLASSIFIER DATA/Style/Style - Blazer/processed_data/val'\n",
    "test_data_dir = r'//DRIVE/Algemeen/Interns/Mirle Willems/CLASSIFIER DATA/Style/Style - Blazer/processed_data/test'"
   ]
  },
  {
   "cell_type": "code",
   "execution_count": null,
   "id": "cba82c37",
   "metadata": {},
   "outputs": [],
   "source": [
    "train_datagen = ImageDataGenerator(preprocessing_function=preprocess_input,\n",
    "    shear_range=0.2,\n",
    "    zoom_range=0.2,\n",
    "    horizontal_flip = True) #validation_split=0.4\n",
    "\n",
    "train_generator = train_datagen.flow_from_directory(\n",
    "    train_data_dir,\n",
    "    target_size=(img_height, img_width),\n",
    "    batch_size=batch_size,\n",
    "    class_mode='binary')\n",
    "\n",
    "valid_generator = train_datagen.flow_from_directory(\n",
    "    valid_data_dir,\n",
    "    target_size=(img_height, img_width),\n",
    "    batch_size=batch_size,\n",
    "    class_mode='binary')"
   ]
  },
  {
   "cell_type": "code",
   "execution_count": null,
   "id": "91b81369",
   "metadata": {},
   "outputs": [],
   "source": [
    "test_generator = train_datagen.flow_from_directory(\n",
    "    test_data_dir,\n",
    "    target_size=(img_height, img_width),\n",
    "    batch_size = 1,\n",
    "    class_mode = 'binary')"
   ]
  },
  {
   "cell_type": "code",
   "execution_count": null,
   "id": "674e946a",
   "metadata": {},
   "outputs": [],
   "source": [
    "x,y=test_generator.next()\n",
    "print(x.shape)\n",
    "print(y.shape)\n",
    "\n",
    "train_generator.num_classes\n",
    "\n",
    "print(train_generator.classes)\n",
    "print(train_generator.class_indices)"
   ]
  },
  {
   "cell_type": "code",
   "execution_count": null,
   "id": "e047a301",
   "metadata": {},
   "outputs": [],
   "source": [
    "#2028 --> No\n",
    "# 829 --> Yes\n",
    "#2857--> Total\n",
    "\n",
    "#Weights for No:\n",
    "print(2857/(2*2028))\n",
    "#Weights for Yes:\n",
    "print(2857/(2*829))"
   ]
  },
  {
   "cell_type": "markdown",
   "id": "d5751f14",
   "metadata": {},
   "source": [
    "### Learning default with early stopping"
   ]
  },
  {
   "cell_type": "code",
   "execution_count": null,
   "id": "67c2b906",
   "metadata": {},
   "outputs": [],
   "source": [
    "callback = tf.keras.callbacks.EarlyStopping(monitor='val_loss', patience=3)"
   ]
  },
  {
   "cell_type": "code",
   "execution_count": null,
   "id": "aeb766f3",
   "metadata": {},
   "outputs": [],
   "source": [
    "base_model = ResNet50(include_top=False, weights='imagenet')\n",
    "x = base_model.output\n",
    "x = GlobalAveragePooling2D()(x) #ty out with multiple Dense layers and other layers added to the end\n",
    "x = Dense(1024, activation='relu')(x)\n",
    "predictions = Dense(train_generator.num_classes, activation='softmax')(x) #softmax in original categorical classification\n",
    "model_blazer_1 = Model(inputs=base_model.input, outputs=predictions)\n",
    "\n",
    "for layer in base_model.layers:\n",
    "    layer.trainable = False #=True takes more time, but if you keep them trainable (the pretrained weights)\n",
    "    \n",
    "model_blazer_1.compile(optimizer='adam', loss='sparse_categorical_crossentropy', metrics = ['accuracy'])\n",
    "\n",
    "history_blazer_1 = model_blazer_1.fit_generator(train_generator, epochs = 40, callbacks=[callback], validation_data = valid_generator, class_weight = {0: 0.70, 1: 1.72})"
   ]
  },
  {
   "cell_type": "code",
   "execution_count": null,
   "id": "a71e3f8e",
   "metadata": {
    "scrolled": true
   },
   "outputs": [],
   "source": [
    "test_loss, test_acc = model_blazer_1.evaluate_generator(test_generator, verbose=2)\n",
    "print('\\nTest accuracy:', test_acc)"
   ]
  },
  {
   "cell_type": "code",
   "execution_count": null,
   "id": "ab762eeb",
   "metadata": {},
   "outputs": [],
   "source": [
    "plot_metric(history_blazer_1, 'loss')"
   ]
  },
  {
   "cell_type": "code",
   "execution_count": null,
   "id": "cb48ce8a",
   "metadata": {},
   "outputs": [],
   "source": [
    "model_blazer_1.save(r'//DRIVE/Algemeen/Interns/Mirle Willems/CLASSIFIER DATA/Style/Style - Blazer/saved_model/ResNet_Blazer_1.h5')"
   ]
  },
  {
   "cell_type": "markdown",
   "id": "8b4fd2e0",
   "metadata": {},
   "source": [
    "### Learning 0.0001 with early stopping"
   ]
  },
  {
   "cell_type": "code",
   "execution_count": null,
   "id": "57a00b39",
   "metadata": {},
   "outputs": [],
   "source": [
    "callback = tf.keras.callbacks.EarlyStopping(monitor='val_loss', patience=3)"
   ]
  },
  {
   "cell_type": "code",
   "execution_count": null,
   "id": "be1ab176",
   "metadata": {
    "scrolled": true
   },
   "outputs": [],
   "source": [
    "base_model = ResNet50(include_top=False, weights='imagenet')\n",
    "x = base_model.output\n",
    "x = GlobalAveragePooling2D()(x) #ty out with multiple Dense layers and other layers added to the end\n",
    "x = Dense(1024, activation='relu')(x)\n",
    "predictions = Dense(train_generator.num_classes, activation='softmax')(x) #softmax in original categorical classification\n",
    "model_blazer_2 = Model(inputs=base_model.input, outputs=predictions)\n",
    "\n",
    "for layer in base_model.layers:\n",
    "    layer.trainable = False #=True takes more time, but if you keep them trainable (the pretrained weights)\n",
    "\n",
    "optimizer = Adam(lr=0.0001)\n",
    "\n",
    "model_blazer_2.compile(optimizer=optimizer, loss='sparse_categorical_crossentropy', metrics = ['accuracy'])\n",
    "\n",
    "history_blazer_2 = model_blazer_2.fit_generator(train_generator, epochs = 40, callbacks=[callback], validation_data = valid_generator, class_weight ={0: 0.70, 1: 1.72})"
   ]
  },
  {
   "cell_type": "code",
   "execution_count": null,
   "id": "27769f81",
   "metadata": {},
   "outputs": [],
   "source": [
    "test_loss, test_acc = model_blazer_2.evaluate_generator(test_generator, verbose=2)\n",
    "print('\\nTest accuracy:', test_acc)"
   ]
  },
  {
   "cell_type": "code",
   "execution_count": null,
   "id": "dccb49ac",
   "metadata": {},
   "outputs": [],
   "source": [
    "plot_metric(history_blazer_2, 'loss')"
   ]
  },
  {
   "cell_type": "code",
   "execution_count": null,
   "id": "d890b510",
   "metadata": {},
   "outputs": [],
   "source": [
    "model_blazer_2.save(r'//DRIVE/Algemeen/Interns/Mirle Willems/CLASSIFIER DATA/Style/Style - Blazer/saved_model/ResNet_Blazer_2.h5')"
   ]
  },
  {
   "cell_type": "markdown",
   "id": "2dc87ce6",
   "metadata": {},
   "source": [
    "### Learning 0.00001 with early stopping"
   ]
  },
  {
   "cell_type": "code",
   "execution_count": null,
   "id": "b95e8f78",
   "metadata": {},
   "outputs": [],
   "source": [
    "callback = tf.keras.callbacks.EarlyStopping(monitor='val_loss', patience=3)"
   ]
  },
  {
   "cell_type": "code",
   "execution_count": null,
   "id": "45114be0",
   "metadata": {
    "scrolled": true
   },
   "outputs": [],
   "source": [
    "base_model = ResNet50(include_top=False, weights='imagenet')\n",
    "x = base_model.output\n",
    "x = GlobalAveragePooling2D()(x) #ty out with multiple Dense layers and other layers added to the end\n",
    "x = Dense(1024, activation='relu')(x)\n",
    "predictions = Dense(train_generator.num_classes, activation='softmax')(x) #softmax in original categorical classification\n",
    "model_blazer_3 = Model(inputs=base_model.input, outputs=predictions)\n",
    "\n",
    "for layer in base_model.layers:\n",
    "    layer.trainable = False #=True takes more time, but if you keep them trainable (the pretrained weights)\n",
    "\n",
    "optimizer = Adam(lr=0.00001)\n",
    "\n",
    "model_blazer_3.compile(optimizer=optimizer, loss='sparse_categorical_crossentropy', metrics = ['accuracy'])\n",
    "\n",
    "history_blazer_3 = model_blazer_3.fit_generator(train_generator, epochs = 40, callbacks=[callback], validation_data = valid_generator, class_weight =  {0: 0.70, 1: 1.72})"
   ]
  },
  {
   "cell_type": "code",
   "execution_count": null,
   "id": "4ac799e8",
   "metadata": {},
   "outputs": [],
   "source": [
    "test_loss, test_acc = model_blazer_3.evaluate_generator(test_generator, verbose=2)\n",
    "print('\\nTest accuracy:', test_acc)"
   ]
  },
  {
   "cell_type": "code",
   "execution_count": null,
   "id": "7d378898",
   "metadata": {},
   "outputs": [],
   "source": [
    "plot_metric(history_blazer_3, 'loss')"
   ]
  },
  {
   "cell_type": "code",
   "execution_count": null,
   "id": "2c398846",
   "metadata": {},
   "outputs": [],
   "source": [
    "model_blazer_3.save(r'//DRIVE/Algemeen/Interns/Mirle Willems/CLASSIFIER DATA/Style/Style - Blazer/saved_model/ResNet_Blazer_3.h5')"
   ]
  },
  {
   "cell_type": "markdown",
   "id": "cd9ed1da",
   "metadata": {},
   "source": [
    "# Matrices"
   ]
  },
  {
   "cell_type": "code",
   "execution_count": null,
   "id": "fe5d69c7",
   "metadata": {
    "scrolled": true
   },
   "outputs": [],
   "source": [
    "import pandas as pd\n",
    "import seaborn as sn\n",
    "import tensorflow as tf\n",
    "\n",
    "model = tf.keras.models.load_model('//DRIVE/Algemeen/Interns/Mirle Willems/CLASSIFIER DATA/Style/Style - Blazer/saved_model/ResNet_Blazer_1.h5')\n",
    "nb_samples = len(test_generator)\n",
    "y_prob=[]\n",
    "y_act=[]\n",
    "test_generator.reset()\n",
    "\n",
    "for _ in range(nb_samples):\n",
    "    X_test, Y_test = test_generator.next()\n",
    "    y_prob.append(model.predict(X_test))\n",
    "    y_act.append(Y_test)\n",
    "    \n",
    "predicted_class = [list(train_generator.class_indices.keys())[i.argmax()] for i in y_prob] \n",
    "actual_class = [list(train_generator.class_indices.keys())[int(i)] for i in y_act] \n",
    "\n",
    "out_df = pd.DataFrame(np.vstack([predicted_class, actual_class]).T,columns=['predicted_class', 'actual_class'])\n",
    "confusion_matrix = pd.crosstab(out_df['actual_class'], out_df[\"predicted_class\"], rownames=[\"Actual\"], colnames=['Predicted'])\n",
    "\n",
    "sn.heatmap(confusion_matrix, cmap='Blues', annot=True, fmt='d')\n",
    "plt.show()\n",
    "\n",
    "print('test accuracy : {}'.format((np.diagonal(confusion_matrix).sum()/confusion_matrix.sum().sum()*100)))"
   ]
  },
  {
   "cell_type": "code",
   "execution_count": null,
   "id": "1ef5bb43",
   "metadata": {
    "scrolled": true
   },
   "outputs": [],
   "source": [
    "import pandas as pd\n",
    "import seaborn as sn\n",
    "import tensorflow as tf\n",
    "\n",
    "model = tf.keras.models.load_model('//DRIVE/Algemeen/Interns/Mirle Willems/CLASSIFIER DATA/Style/Style - Blazer/saved_model/ResNet_Blazer_2.h5')\n",
    "y_prob=[]\n",
    "y_act=[]\n",
    "test_generator.reset()\n",
    "\n",
    "for _ in range(nb_samples):\n",
    "    X_test, Y_test = test_generator.next()\n",
    "    y_prob.append(model.predict(X_test))\n",
    "    y_act.append(Y_test)\n",
    "    \n",
    "predicted_class = [list(train_generator.class_indices.keys())[i.argmax()] for i in y_prob] \n",
    "actual_class = [list(train_generator.class_indices.keys())[int(i)] for i in y_act] \n",
    "\n",
    "out_df = pd.DataFrame(np.vstack([predicted_class, actual_class]).T,columns=['predicted_class', 'actual_class'])\n",
    "confusion_matrix = pd.crosstab(out_df['actual_class'], out_df[\"predicted_class\"], rownames=[\"Actual\"], colnames=['Predicted'])\n",
    "\n",
    "sn.heatmap(confusion_matrix, cmap='Blues', annot=True, fmt='d')\n",
    "plt.show()\n",
    "\n",
    "print('test accuracy : {}'.format((np.diagonal(confusion_matrix).sum()/confusion_matrix.sum().sum()*100)))"
   ]
  },
  {
   "cell_type": "code",
   "execution_count": null,
   "id": "259ea720",
   "metadata": {},
   "outputs": [],
   "source": [
    "import pandas as pd\n",
    "import seaborn as sn\n",
    "import tensorflow as tf\n",
    "\n",
    "model = tf.keras.models.load_model('//DRIVE/Algemeen/Interns/Mirle Willems/CLASSIFIER DATA/Style/Style - Blazer/saved_model/ResNet_Blazer_3.h5')\n",
    "y_prob=[]\n",
    "y_act=[]\n",
    "nb_samples = len(test_generator)\n",
    "test_generator.reset()\n",
    "\n",
    "for _ in range(nb_samples):\n",
    "    X_test, Y_test = test_generator.next()\n",
    "    y_prob.append(model.predict(X_test))\n",
    "    y_act.append(Y_test)\n",
    "    \n",
    "predicted_class = [list(train_generator.class_indices.keys())[i.argmax()] for i in y_prob] \n",
    "actual_class = [list(train_generator.class_indices.keys())[int(i)] for i in y_act] \n",
    "\n",
    "out_df = pd.DataFrame(np.vstack([predicted_class, actual_class]).T,columns=['predicted_class', 'actual_class'])\n",
    "confusion_matrix = pd.crosstab(out_df['actual_class'], out_df[\"predicted_class\"], rownames=[\"Actual\"], colnames=['Predicted'])\n",
    "\n",
    "sn.heatmap(confusion_matrix, cmap='Blues', annot=True, fmt='d')\n",
    "plt.show()\n",
    "\n",
    "print('test accuracy : {}'.format((np.diagonal(confusion_matrix).sum()/confusion_matrix.sum().sum()*100)))"
   ]
  },
  {
   "cell_type": "markdown",
   "id": "b6ae99e6",
   "metadata": {},
   "source": [
    "## Extra: 0.0001 with early stopping(5)"
   ]
  },
  {
   "cell_type": "code",
   "execution_count": null,
   "id": "cff1fe26",
   "metadata": {},
   "outputs": [],
   "source": [
    "callback = tf.keras.callbacks.EarlyStopping(monitor='val_loss', patience=5)"
   ]
  },
  {
   "cell_type": "code",
   "execution_count": null,
   "id": "030e2dc9",
   "metadata": {},
   "outputs": [],
   "source": [
    "base_model = ResNet50(include_top=False, weights='imagenet')\n",
    "x = base_model.output\n",
    "x = GlobalAveragePooling2D()(x) #ty out with multiple Dense layers and other layers added to the end\n",
    "x = Dense(1024, activation='relu')(x)\n",
    "predictions = Dense(train_generator.num_classes, activation='softmax')(x) #softmax in original categorical classification\n",
    "model_blazer_4 = Model(inputs=base_model.input, outputs=predictions)\n",
    "\n",
    "for layer in base_model.layers:\n",
    "    layer.trainable = False #=True takes more time, but if you keep them trainable (the pretrained weights)\n",
    "\n",
    "optimizer = Adam(lr=0.0001)\n",
    "\n",
    "model_blazer_4.compile(optimizer=optimizer, loss='sparse_categorical_crossentropy', metrics = ['accuracy'])\n",
    "\n",
    "history_blazer_4 = model_blazer_4.fit_generator(train_generator, epochs = 80, callbacks=[callback], validation_data = valid_generator, class_weight ={0: 0.70, 1: 1.72})"
   ]
  },
  {
   "cell_type": "code",
   "execution_count": null,
   "id": "53cadd23",
   "metadata": {},
   "outputs": [],
   "source": [
    "test_loss, test_acc = model_blazer_4.evaluate_generator(test_generator, verbose=2)\n",
    "print('\\nTest accuracy:', test_acc)"
   ]
  },
  {
   "cell_type": "code",
   "execution_count": null,
   "id": "e59a0a18",
   "metadata": {
    "scrolled": true
   },
   "outputs": [],
   "source": [
    "plot_metric(history_blazer_4, 'loss')"
   ]
  },
  {
   "cell_type": "code",
   "execution_count": null,
   "id": "a71d1e39",
   "metadata": {},
   "outputs": [],
   "source": [
    "model_blazer_4.save(r'//DRIVE/Algemeen/Interns/Mirle Willems/CLASSIFIER DATA/Style/Style - Blazer/saved_model/ResNet_Blazer_4.h5')"
   ]
  },
  {
   "cell_type": "code",
   "execution_count": null,
   "id": "ec569296",
   "metadata": {},
   "outputs": [],
   "source": [
    "import pandas as pd\n",
    "import seaborn as sn\n",
    "import tensorflow as tf\n",
    "\n",
    "model = tf.keras.models.load_model('//DRIVE/Algemeen/Interns/Mirle Willems/CLASSIFIER DATA/Style/Style - Blazer/saved_model/ResNet_Blazer_4.h5')\n",
    "y_prob=[]\n",
    "y_act=[]\n",
    "nb_samples = len(test_generator)\n",
    "test_generator.reset()\n",
    "\n",
    "for _ in range(nb_samples):\n",
    "    X_test, Y_test = test_generator.next()\n",
    "    y_prob.append(model.predict(X_test))\n",
    "    y_act.append(Y_test)\n",
    "    \n",
    "predicted_class = [list(train_generator.class_indices.keys())[i.argmax()] for i in y_prob] \n",
    "actual_class = [list(train_generator.class_indices.keys())[int(i)] for i in y_act] \n",
    "\n",
    "out_df = pd.DataFrame(np.vstack([predicted_class, actual_class]).T,columns=['predicted_class', 'actual_class'])\n",
    "confusion_matrix = pd.crosstab(out_df['actual_class'], out_df[\"predicted_class\"], rownames=[\"Actual\"], colnames=['Predicted'])\n",
    "\n",
    "sn.heatmap(confusion_matrix, cmap='Blues', annot=True, fmt='d')\n",
    "plt.show()\n",
    "\n",
    "print('test accuracy : {}'.format((np.diagonal(confusion_matrix).sum()/confusion_matrix.sum().sum()*100)))"
   ]
  },
  {
   "cell_type": "markdown",
   "id": "30b38275",
   "metadata": {},
   "source": [
    "## 0.00001 early stopping (5)"
   ]
  },
  {
   "cell_type": "code",
   "execution_count": null,
   "id": "22eaefdb",
   "metadata": {},
   "outputs": [],
   "source": [
    "callback = tf.keras.callbacks.EarlyStopping(monitor='val_loss', patience=5)"
   ]
  },
  {
   "cell_type": "code",
   "execution_count": null,
   "id": "b7daae61",
   "metadata": {
    "scrolled": true
   },
   "outputs": [],
   "source": [
    "base_model = ResNet50(include_top=False, weights='imagenet')\n",
    "x = base_model.output\n",
    "x = GlobalAveragePooling2D()(x) #ty out with multiple Dense layers and other layers added to the end\n",
    "x = Dense(1024, activation='relu')(x)\n",
    "predictions = Dense(train_generator.num_classes, activation='softmax')(x) #softmax in original categorical classification\n",
    "model_blazer_5 = Model(inputs=base_model.input, outputs=predictions)\n",
    "\n",
    "for layer in base_model.layers:\n",
    "    layer.trainable = False #=True takes more time, but if you keep them trainable (the pretrained weights)\n",
    "\n",
    "optimizer = Adam(lr=0.00001)\n",
    "\n",
    "model_blazer_5.compile(optimizer=optimizer, loss='sparse_categorical_crossentropy', metrics = ['accuracy'])\n",
    "\n",
    "history_blazer_5 = model_blazer_5.fit_generator(train_generator, epochs = 80, callbacks=[callback], validation_data = valid_generator, class_weight = {0: 0.70, 1: 1.72})"
   ]
  },
  {
   "cell_type": "code",
   "execution_count": null,
   "id": "8548066e",
   "metadata": {},
   "outputs": [],
   "source": [
    "test_loss, test_acc = model_blazer_5.evaluate_generator(test_generator, verbose=2)\n",
    "print('\\nTest accuracy:', test_acc)"
   ]
  },
  {
   "cell_type": "code",
   "execution_count": null,
   "id": "ee93c688",
   "metadata": {},
   "outputs": [],
   "source": [
    "plot_metric(history_blazer_5, 'loss')"
   ]
  },
  {
   "cell_type": "code",
   "execution_count": null,
   "id": "9ff36d16",
   "metadata": {},
   "outputs": [],
   "source": [
    "model_blazer_5.save(r'//DRIVE/Algemeen/Interns/Mirle Willems/CLASSIFIER DATA/Style/Style - Blazer/saved_model/ResNet_Blazer_5.h5')"
   ]
  },
  {
   "cell_type": "code",
   "execution_count": null,
   "id": "72d858ce",
   "metadata": {},
   "outputs": [],
   "source": [
    "import pandas as pd\n",
    "import seaborn as sn\n",
    "import tensorflow as tf\n",
    "\n",
    "model = tf.keras.models.load_model('//DRIVE/Algemeen/Interns/Mirle Willems/CLASSIFIER DATA/Style/Style - Blazer/saved_model/ResNet_Blazer_5.h5')\n",
    "y_prob=[]\n",
    "y_act=[]\n",
    "nb_samples = len(test_generator)\n",
    "test_generator.reset()\n",
    "\n",
    "for _ in range(nb_samples):\n",
    "    X_test, Y_test = test_generator.next()\n",
    "    y_prob.append(model.predict(X_test))\n",
    "    y_act.append(Y_test)\n",
    "    \n",
    "predicted_class = [list(train_generator.class_indices.keys())[i.argmax()] for i in y_prob] \n",
    "actual_class = [list(train_generator.class_indices.keys())[int(i)] for i in y_act] \n",
    "\n",
    "out_df = pd.DataFrame(np.vstack([predicted_class, actual_class]).T,columns=['predicted_class', 'actual_class'])\n",
    "confusion_matrix = pd.crosstab(out_df['actual_class'], out_df[\"predicted_class\"], rownames=[\"Actual\"], colnames=['Predicted'])\n",
    "\n",
    "sn.heatmap(confusion_matrix, cmap='Blues', annot=True, fmt='d')\n",
    "plt.show()\n",
    "\n",
    "print('test accuracy : {}'.format((np.diagonal(confusion_matrix).sum()/confusion_matrix.sum().sum()*100)))"
   ]
  }
 ],
 "metadata": {
  "kernelspec": {
   "display_name": "Python 3",
   "language": "python",
   "name": "python3"
  },
  "language_info": {
   "codemirror_mode": {
    "name": "ipython",
    "version": 3
   },
   "file_extension": ".py",
   "mimetype": "text/x-python",
   "name": "python",
   "nbconvert_exporter": "python",
   "pygments_lexer": "ipython3",
   "version": "3.8.8"
  }
 },
 "nbformat": 4,
 "nbformat_minor": 5
}
