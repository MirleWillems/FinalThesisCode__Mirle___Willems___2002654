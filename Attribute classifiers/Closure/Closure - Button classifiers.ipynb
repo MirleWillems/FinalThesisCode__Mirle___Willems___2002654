{
 "cells": [
  {
   "cell_type": "code",
   "execution_count": null,
   "id": "02bf6466",
   "metadata": {
    "scrolled": true
   },
   "outputs": [],
   "source": [
    "import tensorflow as tf"
   ]
  },
  {
   "cell_type": "code",
   "execution_count": null,
   "id": "1f145a6d",
   "metadata": {},
   "outputs": [],
   "source": [
    "from tensorflow.keras.layers import Conv2D, Flatten, Dense, MaxPool2D, BatchNormalization, GlobalAveragePooling2D\n",
    "from tensorflow.keras.applications.resnet50 import preprocess_input, decode_predictions\n",
    "from tensorflow.keras.preprocessing.image import ImageDataGenerator, load_img\n",
    "from tensorflow.keras.applications.resnet50 import ResNet50\n",
    "from tensorflow.keras.preprocessing import image\n",
    "from tensorflow.keras.models import Sequential, Model\n",
    "from tensorflow.keras.optimizers import Adam\n",
    "import matplotlib.pyplot as plt\n",
    "import numpy as np"
   ]
  },
  {
   "cell_type": "code",
   "execution_count": null,
   "id": "5084470d",
   "metadata": {},
   "outputs": [],
   "source": [
    "import joblib\n",
    "import PIL \n",
    "from PIL import Image\n",
    "import h5py"
   ]
  },
  {
   "cell_type": "code",
   "execution_count": null,
   "id": "7ed8efe5",
   "metadata": {},
   "outputs": [],
   "source": [
    "from tensorflow.keras.callbacks import EarlyStopping"
   ]
  },
  {
   "cell_type": "code",
   "execution_count": null,
   "id": "a1853a5e",
   "metadata": {},
   "outputs": [],
   "source": [
    "tf.keras.backend.set_image_data_format('channels_first')"
   ]
  },
  {
   "cell_type": "code",
   "execution_count": null,
   "id": "b83aca01",
   "metadata": {},
   "outputs": [],
   "source": [
    "def plot_metric(history, metric):\n",
    "    train_metrics = history.history[metric]\n",
    "    val_metrics = history.history['val_'+metric]\n",
    "    epochs = range(1, len(train_metrics) + 1)\n",
    "    plt.plot(epochs, train_metrics)\n",
    "    plt.plot(epochs, val_metrics)\n",
    "    plt.title('Training and validation '+ metric)\n",
    "    plt.xlabel(\"Epochs\")\n",
    "    plt.ylabel(metric)\n",
    "    plt.legend([\"train_\"+metric, 'val_'+metric])\n",
    "    plt.show()"
   ]
  },
  {
   "cell_type": "markdown",
   "id": "308c0196",
   "metadata": {},
   "source": [
    "# Closures"
   ]
  },
  {
   "cell_type": "markdown",
   "id": "d85c0f28",
   "metadata": {},
   "source": [
    "## Button"
   ]
  },
  {
   "cell_type": "code",
   "execution_count": null,
   "id": "3172a17c",
   "metadata": {},
   "outputs": [],
   "source": [
    "#3552 --> No\n",
    "#2243 --> Yes\n",
    "#5795 --> Total\n",
    "\n",
    "#Weights for No:\n",
    "print(5795/(2*3552))\n",
    "#Weights for Yes:\n",
    "print(5795/(2*2243))"
   ]
  },
  {
   "cell_type": "code",
   "execution_count": null,
   "id": "1615495a",
   "metadata": {},
   "outputs": [],
   "source": [
    "img_height, img_width = (512, 512)\n",
    "batch_size = 16\n",
    "\n",
    "train_data_dir = r'//drive/Algemeen/Interns/Mirle Willems/CLASSIFIER DATA/Closures/Closure - Button/processed_data/train'\n",
    "valid_data_dir = r'//drive/Algemeen/Interns/Mirle Willems/CLASSIFIER DATA/Closures/Closure - Button/processed_data/val'\n",
    "test_data_dir = r'//drive/Algemeen/Interns/Mirle Willems/CLASSIFIER DATA/Closures/Closure - Button/processed_data/test'"
   ]
  },
  {
   "cell_type": "code",
   "execution_count": null,
   "id": "cba82c37",
   "metadata": {},
   "outputs": [],
   "source": [
    "train_datagen = ImageDataGenerator(preprocessing_function=preprocess_input,\n",
    "    shear_range=0.2,\n",
    "    zoom_range=0.2,\n",
    "    horizontal_flip = True) #validation_split=0.4\n",
    "\n",
    "train_generator = train_datagen.flow_from_directory(\n",
    "    train_data_dir,\n",
    "    target_size=(img_height, img_width),\n",
    "    batch_size=batch_size,\n",
    "    class_mode='binary')\n",
    "\n",
    "valid_generator = train_datagen.flow_from_directory(\n",
    "    valid_data_dir,\n",
    "    target_size=(img_height, img_width),\n",
    "    batch_size=batch_size,\n",
    "    class_mode='binary')"
   ]
  },
  {
   "cell_type": "code",
   "execution_count": null,
   "id": "91b81369",
   "metadata": {},
   "outputs": [],
   "source": [
    "test_generator = train_datagen.flow_from_directory(\n",
    "    test_data_dir,\n",
    "    target_size=(img_height, img_width),\n",
    "    batch_size = 1,\n",
    "    class_mode = 'binary')"
   ]
  },
  {
   "cell_type": "code",
   "execution_count": null,
   "id": "674e946a",
   "metadata": {},
   "outputs": [],
   "source": [
    "x,y=test_generator.next()\n",
    "print(x.shape)\n",
    "print(y.shape)\n",
    "\n",
    "train_generator.num_classes\n",
    "\n",
    "print(train_generator.classes)\n",
    "print(train_generator.class_indices)"
   ]
  },
  {
   "cell_type": "markdown",
   "id": "d5751f14",
   "metadata": {},
   "source": [
    "### Learning default with early stopping"
   ]
  },
  {
   "cell_type": "code",
   "execution_count": null,
   "id": "67c2b906",
   "metadata": {},
   "outputs": [],
   "source": [
    "callback = tf.keras.callbacks.EarlyStopping(monitor='val_loss', patience=3)"
   ]
  },
  {
   "cell_type": "code",
   "execution_count": null,
   "id": "aeb766f3",
   "metadata": {},
   "outputs": [],
   "source": [
    "base_model = ResNet50(include_top=False, weights='imagenet')\n",
    "x = base_model.output\n",
    "x = GlobalAveragePooling2D()(x) #ty out with multiple Dense layers and other layers added to the end\n",
    "x = Dense(1024, activation='relu')(x)\n",
    "predictions = Dense(train_generator.num_classes, activation='softmax')(x) #softmax in original categorical classification\n",
    "model_buttons_1 = Model(inputs=base_model.input, outputs=predictions)\n",
    "\n",
    "for layer in base_model.layers:\n",
    "    layer.trainable = False #=True takes more time, but if you keep them trainable (the pretrained weights)\n",
    "    \n",
    "model_buttons_1.compile(optimizer='adam', loss='sparse_categorical_crossentropy', metrics = ['accuracy'])\n",
    "\n",
    "history_buttons_1 = model_buttons_1.fit_generator(train_generator, epochs = 40, callbacks=[callback], validation_data = valid_generator, class_weight = {0: 0.82, 1: 1.29})"
   ]
  },
  {
   "cell_type": "code",
   "execution_count": null,
   "id": "a71e3f8e",
   "metadata": {},
   "outputs": [],
   "source": [
    "test_loss, test_acc = model_buttons_1.evaluate_generator(test_generator, verbose=2)\n",
    "print('\\nTest accuracy:', test_acc)"
   ]
  },
  {
   "cell_type": "code",
   "execution_count": null,
   "id": "ab762eeb",
   "metadata": {},
   "outputs": [],
   "source": [
    "plot_metric(history_buttons_1, 'loss')"
   ]
  },
  {
   "cell_type": "code",
   "execution_count": null,
   "id": "cb48ce8a",
   "metadata": {},
   "outputs": [],
   "source": [
    "model_buttons_1.save('//drive/Algemeen/Interns/Mirle Willems/CLASSIFIER DATA/Closures/Closure - Button/saved_model/ResNet_Closure_Button_1.h5')"
   ]
  },
  {
   "cell_type": "markdown",
   "id": "2797f993",
   "metadata": {},
   "source": [
    "### Learning 0.0001 with early stopping"
   ]
  },
  {
   "cell_type": "code",
   "execution_count": null,
   "id": "6df5cdae",
   "metadata": {},
   "outputs": [],
   "source": [
    "callback = tf.keras.callbacks.EarlyStopping(monitor='val_loss', patience=3)"
   ]
  },
  {
   "cell_type": "code",
   "execution_count": null,
   "id": "e3a02ca5",
   "metadata": {},
   "outputs": [],
   "source": [
    "base_model = ResNet50(include_top=False, weights='imagenet')\n",
    "x = base_model.output\n",
    "x = GlobalAveragePooling2D()(x) #ty out with multiple Dense layers and other layers added to the end\n",
    "x = Dense(1024, activation='relu')(x)\n",
    "predictions = Dense(train_generator.num_classes, activation='softmax')(x) #softmax in original categorical classification\n",
    "model_buttons_2 = Model(inputs=base_model.input, outputs=predictions)\n",
    "\n",
    "for layer in base_model.layers:\n",
    "    layer.trainable = False #=True takes more time, but if you keep them trainable (the pretrained weights)\n",
    "\n",
    "optimizer = Adam(lr=0.0001)\n",
    "\n",
    "model_buttons_2.compile(optimizer=optimizer, loss='sparse_categorical_crossentropy', metrics = ['accuracy'])\n",
    "\n",
    "history_buttons_2 = model_buttons_2.fit_generator(train_generator, epochs = 40, callbacks=[callback], validation_data = valid_generator, class_weight = {0: 0.82, 1: 1.29})"
   ]
  },
  {
   "cell_type": "code",
   "execution_count": null,
   "id": "ad085756",
   "metadata": {},
   "outputs": [],
   "source": [
    "test_loss, test_acc = model_buttons_2.evaluate_generator(test_generator, verbose=2)\n",
    "print('\\nTest accuracy:', test_acc)"
   ]
  },
  {
   "cell_type": "code",
   "execution_count": null,
   "id": "b4028349",
   "metadata": {},
   "outputs": [],
   "source": [
    "plot_metric(history_buttons_2, 'loss')"
   ]
  },
  {
   "cell_type": "code",
   "execution_count": null,
   "id": "ebabe907",
   "metadata": {},
   "outputs": [],
   "source": [
    "model_buttons_2.save('//drive/Algemeen/Interns/Mirle Willems/CLASSIFIER DATA/Closures/Closure - Button/saved_model/ResNet_Closure_Button_2.h5')"
   ]
  },
  {
   "cell_type": "code",
   "execution_count": null,
   "id": "cb67d41c",
   "metadata": {},
   "outputs": [],
   "source": [
    "plot_metric(history_buttons_2, 'loss')"
   ]
  },
  {
   "cell_type": "markdown",
   "id": "21dc1b12",
   "metadata": {},
   "source": [
    "### Learning 0.00001 with early stopping"
   ]
  },
  {
   "cell_type": "code",
   "execution_count": null,
   "id": "fccfca88",
   "metadata": {},
   "outputs": [],
   "source": [
    "callback = tf.keras.callbacks.EarlyStopping(monitor='val_loss', patience=3)"
   ]
  },
  {
   "cell_type": "code",
   "execution_count": null,
   "id": "d78d1b8f",
   "metadata": {},
   "outputs": [],
   "source": [
    "base_model = ResNet50(include_top=False, weights='imagenet')\n",
    "x = base_model.output\n",
    "x = GlobalAveragePooling2D()(x) #ty out with multiple Dense layers and other layers added to the end\n",
    "x = Dense(1024, activation='relu')(x)\n",
    "predictions = Dense(train_generator.num_classes, activation='softmax')(x) #softmax in original categorical classification\n",
    "model_buttons_3 = Model(inputs=base_model.input, outputs=predictions)\n",
    "\n",
    "for layer in base_model.layers:\n",
    "    layer.trainable = False #=True takes more time, but if you keep them trainable (the pretrained weights)\n",
    "\n",
    "optimizer = Adam(lr=0.00001)\n",
    "\n",
    "model_buttons_3.compile(optimizer=optimizer, loss='sparse_categorical_crossentropy', metrics = ['accuracy'])\n",
    "\n",
    "history_buttons_3 = model_buttons_3.fit_generator(train_generator, epochs = 40, callbacks=[callback], validation_data = valid_generator, class_weight = {0: 0.82, 1: 1.29})"
   ]
  },
  {
   "cell_type": "code",
   "execution_count": null,
   "id": "1baa2396",
   "metadata": {
    "scrolled": true
   },
   "outputs": [],
   "source": [
    "test_loss, test_acc = model_buttons_3.evaluate_generator(test_generator, verbose=2)\n",
    "print('\\nTest accuracy:', test_acc)"
   ]
  },
  {
   "cell_type": "code",
   "execution_count": null,
   "id": "abae2540",
   "metadata": {},
   "outputs": [],
   "source": [
    "model_buttons_3.save('//drive/Algemeen/Interns/Mirle Willems/CLASSIFIER DATA/Closures/Closure - Button/saved_model/ResNet_Closure_Button_3.h5')"
   ]
  },
  {
   "cell_type": "code",
   "execution_count": null,
   "id": "51d644aa",
   "metadata": {},
   "outputs": [],
   "source": [
    "plot_metric(history_buttons_3, 'loss')"
   ]
  },
  {
   "cell_type": "markdown",
   "id": "db697ab4",
   "metadata": {},
   "source": [
    "### Learning 0.0001 with early stopping (5)"
   ]
  },
  {
   "cell_type": "code",
   "execution_count": null,
   "id": "e55015d2",
   "metadata": {},
   "outputs": [],
   "source": [
    "callback = tf.keras.callbacks.EarlyStopping(monitor='val_loss', patience=5)"
   ]
  },
  {
   "cell_type": "code",
   "execution_count": null,
   "id": "fd41177f",
   "metadata": {},
   "outputs": [],
   "source": [
    "base_model = ResNet50(include_top=False, weights='imagenet')\n",
    "x = base_model.output\n",
    "x = GlobalAveragePooling2D()(x) #ty out with multiple Dense layers and other layers added to the end\n",
    "x = Dense(1024, activation='relu')(x)\n",
    "predictions = Dense(train_generator.num_classes, activation='softmax')(x) #softmax in original categorical classification\n",
    "model_buttons_4 = Model(inputs=base_model.input, outputs=predictions)\n",
    "\n",
    "for layer in base_model.layers:\n",
    "    layer.trainable = False #=True takes more time, but if you keep them trainable (the pretrained weights)\n",
    "\n",
    "optimizer = Adam(lr=0.00001)\n",
    "\n",
    "model_buttons_4.compile(optimizer=optimizer, loss='sparse_categorical_crossentropy', metrics = ['accuracy'])\n",
    "\n",
    "history_buttons_4 = model_buttons_4.fit_generator(train_generator, epochs = 40, callbacks=[callback], validation_data = valid_generator, class_weight = {0: 0.82, 1: 1.29})"
   ]
  },
  {
   "cell_type": "code",
   "execution_count": null,
   "id": "f3ea66bf",
   "metadata": {},
   "outputs": [],
   "source": [
    "test_loss, test_acc = model_buttons_4.evaluate_generator(test_generator, verbose=2)\n",
    "print('\\nTest accuracy:', test_acc)"
   ]
  },
  {
   "cell_type": "code",
   "execution_count": null,
   "id": "3f3f60da",
   "metadata": {},
   "outputs": [],
   "source": [
    "model_buttons_4.save('//drive/Algemeen/Interns/Mirle Willems/CLASSIFIER DATA/Closures/Closure - Button/saved_model/ResNet_Closure_Button_4.h5')"
   ]
  },
  {
   "cell_type": "code",
   "execution_count": null,
   "id": "ade81949",
   "metadata": {},
   "outputs": [],
   "source": [
    "plot_metric(history_buttons_4, 'loss')"
   ]
  },
  {
   "cell_type": "markdown",
   "id": "b706f2a0",
   "metadata": {},
   "source": [
    "## Learning 0.00001 early stopping (7)"
   ]
  },
  {
   "cell_type": "code",
   "execution_count": null,
   "id": "6ee9013d",
   "metadata": {},
   "outputs": [],
   "source": [
    "callback = tf.keras.callbacks.EarlyStopping(monitor='val_loss', patience=7)"
   ]
  },
  {
   "cell_type": "code",
   "execution_count": null,
   "id": "875e710c",
   "metadata": {
    "scrolled": true
   },
   "outputs": [],
   "source": [
    "base_model = ResNet50(include_top=False, weights='imagenet')\n",
    "x = base_model.output\n",
    "x = GlobalAveragePooling2D()(x) #ty out with multiple Dense layers and other layers added to the end\n",
    "x = Dense(1024, activation='relu')(x)\n",
    "predictions = Dense(train_generator.num_classes, activation='softmax')(x) #softmax in original categorical classification\n",
    "model_buttons_5 = Model(inputs=base_model.input, outputs=predictions)\n",
    "\n",
    "for layer in base_model.layers:\n",
    "    layer.trainable = False #=True takes more time, but if you keep them trainable (the pretrained weights)\n",
    "\n",
    "optimizer = Adam(lr=0.00001)\n",
    "\n",
    "model_buttons_5.compile(optimizer=optimizer, loss='sparse_categorical_crossentropy', metrics = ['accuracy'])\n",
    "\n",
    "history_buttons_5 = model_buttons_5.fit_generator(train_generator, epochs = 200, callbacks=[callback], validation_data = valid_generator, class_weight = {0: 0.82, 1: 1.29})"
   ]
  },
  {
   "cell_type": "code",
   "execution_count": null,
   "id": "07c8d092",
   "metadata": {},
   "outputs": [],
   "source": [
    "test_loss, test_acc = model_buttons_5.evaluate_generator(test_generator, verbose=2)\n",
    "print('\\nTest accuracy:', test_acc)"
   ]
  },
  {
   "cell_type": "code",
   "execution_count": null,
   "id": "ff4b9b09",
   "metadata": {},
   "outputs": [],
   "source": [
    "plot_metric(history_buttons_5, 'loss')"
   ]
  },
  {
   "cell_type": "code",
   "execution_count": null,
   "id": "0ea342c7",
   "metadata": {},
   "outputs": [],
   "source": [
    "model_buttons_5.save('//drive/Algemeen/Interns/Mirle Willems/CLASSIFIER DATA/Closures/Closure - Button/saved_model/ResNet_Closure_Button_5.h5')"
   ]
  },
  {
   "cell_type": "code",
   "execution_count": null,
   "id": "8a866b35",
   "metadata": {
    "scrolled": true
   },
   "outputs": [],
   "source": [
    "import pandas as pd\n",
    "import seaborn as sn\n",
    "import tensorflow as tf\n",
    "\n",
    "model = tf.keras.models.load_model('//drive/Algemeen/Interns/Mirle Willems/CLASSIFIER DATA/Closures/Closure - Button/saved_model/ResNet_Closure_Button_5.h5')\n",
    "nb_samples = len(test_generator)\n",
    "y_prob=[]\n",
    "y_act=[]\n",
    "test_generator.reset()\n",
    "\n",
    "for _ in range(nb_samples):\n",
    "    X_test, Y_test = test_generator.next()\n",
    "    y_prob.append(model.predict(X_test))\n",
    "    y_act.append(Y_test)\n",
    "    \n",
    "predicted_class = [list(train_generator.class_indices.keys())[i.argmax()] for i in y_prob] \n",
    "actual_class = [list(train_generator.class_indices.keys())[int(i)] for i in y_act] \n",
    "\n",
    "out_df = pd.DataFrame(np.vstack([predicted_class, actual_class]).T,columns=['predicted_class', 'actual_class'])\n",
    "confusion_matrix = pd.crosstab(out_df['actual_class'], out_df[\"predicted_class\"], rownames=[\"Actual\"], colnames=['Predicted'])\n",
    "\n",
    "sn.heatmap(confusion_matrix, cmap='Blues', annot=True, fmt='d')\n",
    "plt.show()\n",
    "\n",
    "print('test accuracy : {}'.format((np.diagonal(confusion_matrix).sum()/confusion_matrix.sum().sum()*100)))"
   ]
  },
  {
   "cell_type": "markdown",
   "id": "4b6cefa4",
   "metadata": {},
   "source": [
    "### Matrix"
   ]
  },
  {
   "cell_type": "code",
   "execution_count": null,
   "id": "ac3e68ee",
   "metadata": {},
   "outputs": [],
   "source": [
    "import pandas as pd\n",
    "import seaborn as sn\n",
    "import tensorflow as tf\n",
    "\n",
    "model = tf.keras.models.load_model('//drive/Algemeen/Interns/Mirle Willems/CLASSIFIER DATA/Closures/Closure - Button/saved_model/ResNet_Closure_Button_1.h5')\n",
    "nb_samples = len(test_generator)\n",
    "y_prob=[]\n",
    "y_act=[]\n",
    "test_generator.reset()\n",
    "\n",
    "for _ in range(nb_samples):\n",
    "    X_test, Y_test = test_generator.next()\n",
    "    y_prob.append(model.predict(X_test))\n",
    "    y_act.append(Y_test)\n",
    "    \n",
    "predicted_class = [list(train_generator.class_indices.keys())[i.argmax()] for i in y_prob] \n",
    "actual_class = [list(train_generator.class_indices.keys())[int(i)] for i in y_act] \n",
    "\n",
    "out_df = pd.DataFrame(np.vstack([predicted_class, actual_class]).T,columns=['predicted_class', 'actual_class'])\n",
    "confusion_matrix = pd.crosstab(out_df['actual_class'], out_df[\"predicted_class\"], rownames=[\"Actual\"], colnames=['Predicted'])\n",
    "\n",
    "sn.heatmap(confusion_matrix, cmap='Blues', annot=True, fmt='d')\n",
    "plt.show()\n",
    "\n",
    "print('test accuracy : {}'.format((np.diagonal(confusion_matrix).sum()/confusion_matrix.sum().sum()*100)))"
   ]
  },
  {
   "cell_type": "code",
   "execution_count": null,
   "id": "7c8bb584",
   "metadata": {},
   "outputs": [],
   "source": [
    "import pandas as pd\n",
    "import seaborn as sn\n",
    "import tensorflow as tf\n",
    "\n",
    "model = tf.keras.models.load_model('//drive/Algemeen/Interns/Mirle Willems/CLASSIFIER DATA/Closures/Closure - Button/saved_model/ResNet_Closure_Button_2.h5')\n",
    "nb_samples = len(test_generator)\n",
    "y_prob=[]\n",
    "y_act=[]\n",
    "test_generator.reset()\n",
    "\n",
    "for _ in range(nb_samples):\n",
    "    X_test, Y_test = test_generator.next()\n",
    "    y_prob.append(model.predict(X_test))\n",
    "    y_act.append(Y_test)\n",
    "    \n",
    "predicted_class = [list(train_generator.class_indices.keys())[i.argmax()] for i in y_prob] \n",
    "actual_class = [list(train_generator.class_indices.keys())[int(i)] for i in y_act] \n",
    "\n",
    "out_df = pd.DataFrame(np.vstack([predicted_class, actual_class]).T,columns=['predicted_class', 'actual_class'])\n",
    "confusion_matrix = pd.crosstab(out_df['actual_class'], out_df[\"predicted_class\"], rownames=[\"Actual\"], colnames=['Predicted'])\n",
    "\n",
    "sn.heatmap(confusion_matrix, cmap='Blues', annot=True, fmt='d')\n",
    "plt.show()\n",
    "\n",
    "print('test accuracy : {}'.format((np.diagonal(confusion_matrix).sum()/confusion_matrix.sum().sum()*100)))"
   ]
  },
  {
   "cell_type": "code",
   "execution_count": null,
   "id": "f554432b",
   "metadata": {},
   "outputs": [],
   "source": [
    "import pandas as pd\n",
    "import seaborn as sn\n",
    "import tensorflow as tf\n",
    "\n",
    "model = tf.keras.models.load_model('//drive/Algemeen/Interns/Mirle Willems/CLASSIFIER DATA/Closures/Closure - Button/saved_model/ResNet_Closure_Button_3.h5')\n",
    "nb_samples = len(test_generator)\n",
    "y_prob=[]\n",
    "y_act=[]\n",
    "test_generator.reset()\n",
    "\n",
    "for _ in range(nb_samples):\n",
    "    X_test, Y_test = test_generator.next()\n",
    "    y_prob.append(model.predict(X_test))\n",
    "    y_act.append(Y_test)\n",
    "    \n",
    "predicted_class = [list(train_generator.class_indices.keys())[i.argmax()] for i in y_prob] \n",
    "actual_class = [list(train_generator.class_indices.keys())[int(i)] for i in y_act] \n",
    "\n",
    "out_df = pd.DataFrame(np.vstack([predicted_class, actual_class]).T,columns=['predicted_class', 'actual_class'])\n",
    "confusion_matrix = pd.crosstab(out_df['actual_class'], out_df[\"predicted_class\"], rownames=[\"Actual\"], colnames=['Predicted'])\n",
    "\n",
    "sn.heatmap(confusion_matrix, cmap='Blues', annot=True, fmt='d')\n",
    "plt.show()\n",
    "\n",
    "print('test accuracy : {}'.format((np.diagonal(confusion_matrix).sum()/confusion_matrix.sum().sum()*100)))"
   ]
  },
  {
   "cell_type": "code",
   "execution_count": null,
   "id": "e5346af5",
   "metadata": {},
   "outputs": [],
   "source": [
    "import pandas as pd\n",
    "import seaborn as sn\n",
    "import tensorflow as tf\n",
    "\n",
    "model = tf.keras.models.load_model('//drive/Algemeen/Interns/Mirle Willems/CLASSIFIER DATA/Closures/Closure - Button/saved_model/ResNet_Closure_Button_4.h5')\n",
    "nb_samples = len(test_generator)\n",
    "y_prob=[]\n",
    "y_act=[]\n",
    "test_generator.reset()\n",
    "\n",
    "for _ in range(nb_samples):\n",
    "    X_test, Y_test = test_generator.next()\n",
    "    y_prob.append(model.predict(X_test))\n",
    "    y_act.append(Y_test)\n",
    "    \n",
    "predicted_class = [list(train_generator.class_indices.keys())[i.argmax()] for i in y_prob] \n",
    "actual_class = [list(train_generator.class_indices.keys())[int(i)] for i in y_act] \n",
    "\n",
    "out_df = pd.DataFrame(np.vstack([predicted_class, actual_class]).T,columns=['predicted_class', 'actual_class'])\n",
    "confusion_matrix = pd.crosstab(out_df['actual_class'], out_df[\"predicted_class\"], rownames=[\"Actual\"], colnames=['Predicted'])\n",
    "\n",
    "sn.heatmap(confusion_matrix, cmap='Blues', annot=True, fmt='d')\n",
    "plt.show()\n",
    "\n",
    "print('test accuracy : {}'.format((np.diagonal(confusion_matrix).sum()/confusion_matrix.sum().sum()*100)))"
   ]
  }
 ],
 "metadata": {
  "kernelspec": {
   "display_name": "Python 3",
   "language": "python",
   "name": "python3"
  },
  "language_info": {
   "codemirror_mode": {
    "name": "ipython",
    "version": 3
   },
   "file_extension": ".py",
   "mimetype": "text/x-python",
   "name": "python",
   "nbconvert_exporter": "python",
   "pygments_lexer": "ipython3",
   "version": "3.8.8"
  }
 },
 "nbformat": 4,
 "nbformat_minor": 5
}
