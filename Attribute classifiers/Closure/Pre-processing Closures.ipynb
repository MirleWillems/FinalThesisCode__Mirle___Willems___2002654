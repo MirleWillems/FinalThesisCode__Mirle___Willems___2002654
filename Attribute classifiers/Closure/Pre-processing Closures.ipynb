{
 "cells": [
  {
   "cell_type": "code",
   "execution_count": null,
   "metadata": {},
   "outputs": [],
   "source": [
    "!pip install split_folders"
   ]
  },
  {
   "cell_type": "code",
   "execution_count": null,
   "metadata": {},
   "outputs": [],
   "source": [
    "import pandas as pd\n",
    "import numpy as np\n",
    "import os\n",
    "import os.path"
   ]
  },
  {
   "cell_type": "code",
   "execution_count": null,
   "metadata": {},
   "outputs": [],
   "source": [
    "import splitfolders"
   ]
  },
  {
   "cell_type": "code",
   "execution_count": null,
   "metadata": {},
   "outputs": [],
   "source": [
    "input_folder = r'C:/Users/mirle.willems/Documents/CLASSIFIER DATA/Closures/Closure - Button/input_dataset'\n",
    "output = r'C:/Users/mirle.willems/Documents/CLASSIFIER DATA/Closures/Closure - Button/processed_data'\n",
    "splitfolders.ratio(input_folder, output, seed=42, ratio=(.6, .2, .2))\n",
    "\n",
    "#random sampling of the images (seed=42)\n",
    "#ratio (training, test, validation)"
   ]
  },
  {
   "cell_type": "code",
   "execution_count": null,
   "metadata": {},
   "outputs": [],
   "source": [
    "input_folder = r'C:/Users/mirle.willems/Documents/CLASSIFIER DATA/Closures/Closure - Hidden zipper/input_dataset'\n",
    "output = r'C:/Users/mirle.willems/Documents/CLASSIFIER DATA/Closures/Closure - Hidden zipper/processed_data'\n",
    "splitfolders.ratio(input_folder, output, seed=42, ratio=(.6, .2, .2))\n",
    "\n",
    "#random sampling of the images (seed=42)\n",
    "#ratio (training, test, validation)"
   ]
  },
  {
   "cell_type": "code",
   "execution_count": null,
   "metadata": {},
   "outputs": [],
   "source": [
    "input_folder = r'C:/Users/mirle.willems/Documents/CLASSIFIER DATA/Closures/Closure - None closed/input_dataset'\n",
    "output = r'C:/Users/mirle.willems/Documents/CLASSIFIER DATA/Closures/Closure - None closed/processed_data'\n",
    "splitfolders.ratio(input_folder, output, seed=42, ratio=(.6, .2, .2))\n",
    "\n",
    "#random sampling of the images (seed=42)\n",
    "#ratio (training, test, validation)"
   ]
  },
  {
   "cell_type": "code",
   "execution_count": null,
   "metadata": {},
   "outputs": [],
   "source": [
    "input_folder = r'C:/Users/mirle.willems/Documents/CLASSIFIER DATA/Closures/Closure - Open front/input_dataset'\n",
    "output = r'C:/Users/mirle.willems/Documents/CLASSIFIER DATA/Closures/Closure - Open front/processed_data'\n",
    "splitfolders.ratio(input_folder, output, seed=42, ratio=(.6, .2, .2))\n",
    "\n",
    "#random sampling of the images (seed=42)\n",
    "#ratio (training, test, validation)"
   ]
  },
  {
   "cell_type": "code",
   "execution_count": null,
   "metadata": {},
   "outputs": [],
   "source": [
    "input_folder = r'C:/Users/mirle.willems/Documents/CLASSIFIER DATA/Closures/Closure - Other/input_dataset'\n",
    "output = r'C:/Users/mirle.willems/Documents/CLASSIFIER DATA/Closures/Closure - Other/processed_data'\n",
    "splitfolders.ratio(input_folder, output, seed=42, ratio=(.6, .2, .2))\n",
    "\n",
    "#random sampling of the images (seed=42)\n",
    "#ratio (training, test, validation)"
   ]
  },
  {
   "cell_type": "code",
   "execution_count": null,
   "metadata": {},
   "outputs": [],
   "source": [
    "input_folder = r'C:/Users/mirle.willems/Documents/CLASSIFIER DATA/Closures/Closure - Waistband/input_dataset'\n",
    "output = r'C:/Users/mirle.willems/Documents/CLASSIFIER DATA/Closures/Closure - Waistband/processed_data'\n",
    "splitfolders.ratio(input_folder, output, seed=42, ratio=(.6, .2, .2))\n",
    "\n",
    "#random sampling of the images (seed=42)\n",
    "#ratio (training, test, validation)"
   ]
  },
  {
   "cell_type": "code",
   "execution_count": null,
   "metadata": {},
   "outputs": [],
   "source": [
    "input_folder = r'C:/Users/mirle.willems/Documents/CLASSIFIER DATA/Closures/Closure - Zipper/input_dataset'\n",
    "output = r'C:/Users/mirle.willems/Documents/CLASSIFIER DATA/Closures/Closure - Zipper/processed_data'\n",
    "splitfolders.ratio(input_folder, output, seed=42, ratio=(.6, .2, .2))\n",
    "\n",
    "#random sampling of the images (seed=42)\n",
    "#ratio (training, test, validation)"
   ]
  }
 ],
 "metadata": {
  "kernelspec": {
   "display_name": "Python 3",
   "language": "python",
   "name": "python3"
  },
  "language_info": {
   "codemirror_mode": {
    "name": "ipython",
    "version": 3
   },
   "file_extension": ".py",
   "mimetype": "text/x-python",
   "name": "python",
   "nbconvert_exporter": "python",
   "pygments_lexer": "ipython3",
   "version": "3.8.8"
  }
 },
 "nbformat": 4,
 "nbformat_minor": 2
}
