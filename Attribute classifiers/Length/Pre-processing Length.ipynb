{
 "cells": [
  {
   "cell_type": "code",
   "execution_count": null,
   "metadata": {},
   "outputs": [],
   "source": [
    "!pip install split_folders"
   ]
  },
  {
   "cell_type": "code",
   "execution_count": null,
   "metadata": {},
   "outputs": [],
   "source": [
    "import pandas as pd\n",
    "import numpy as np\n",
    "import os\n",
    "import os.path"
   ]
  },
  {
   "cell_type": "code",
   "execution_count": null,
   "metadata": {},
   "outputs": [],
   "source": [
    "import splitfolders"
   ]
  },
  {
   "cell_type": "code",
   "execution_count": null,
   "metadata": {},
   "outputs": [],
   "source": [
    "input_folder = r'//DRIVE/Algemeen/Interns/Mirle Willems/CLASSIFIER DATA/Length/Length - Hip length/input_dataset'\n",
    "output = r'//DRIVE/Algemeen/Interns/Mirle Willems/CLASSIFIER DATA/Length/Length - Hip length/processed_data'\n",
    "splitfolders.ratio(input_folder, output, seed=42, ratio=(.6, .2, .2))\n",
    "\n",
    "#random sampling of the images (seed=42)\n",
    "#ratio (training, test, validation)"
   ]
  },
  {
   "cell_type": "code",
   "execution_count": null,
   "metadata": {},
   "outputs": [],
   "source": [
    "input_folder = r'//DRIVE/Algemeen/Interns/Mirle Willems/CLASSIFIER DATA/Length/Length - Above hip length/input_dataset'\n",
    "output = r'//DRIVE/Algemeen/Interns/Mirle Willems/CLASSIFIER DATA/Length/Length - Above hip length/processed_data'\n",
    "splitfolders.ratio(input_folder, output, seed=42, ratio=(.6, .2, .2))\n",
    "\n",
    "#random sampling of the images (seed=42)\n",
    "#ratio (training, test, validation)"
   ]
  },
  {
   "cell_type": "code",
   "execution_count": null,
   "metadata": {},
   "outputs": [],
   "source": [
    "input_folder = r'//DRIVE/Algemeen/Interns/Mirle Willems/CLASSIFIER DATA/Length/Length - Below hip length/input_dataset'\n",
    "output = r'//DRIVE/Algemeen/Interns/Mirle Willems/CLASSIFIER DATA/Length/Length - Below hip length/processed_data'\n",
    "splitfolders.ratio(input_folder, output, seed=42, ratio=(.6, .2, .2))\n",
    "\n",
    "#random sampling of the images (seed=42)\n",
    "#ratio (training, test, validation)"
   ]
  }
 ],
 "metadata": {
  "kernelspec": {
   "display_name": "Python 3",
   "language": "python",
   "name": "python3"
  },
  "language_info": {
   "codemirror_mode": {
    "name": "ipython",
    "version": 3
   },
   "file_extension": ".py",
   "mimetype": "text/x-python",
   "name": "python",
   "nbconvert_exporter": "python",
   "pygments_lexer": "ipython3",
   "version": "3.8.8"
  }
 },
 "nbformat": 4,
 "nbformat_minor": 2
}
