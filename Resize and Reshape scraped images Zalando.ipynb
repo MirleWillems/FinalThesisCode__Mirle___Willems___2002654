{
 "cells": [
  {
   "cell_type": "code",
   "execution_count": null,
   "metadata": {
    "scrolled": true
   },
   "outputs": [],
   "source": [
    "pip install python-resize-image"
   ]
  },
  {
   "cell_type": "code",
   "execution_count": null,
   "metadata": {},
   "outputs": [],
   "source": [
    "from resizeimage import resizeimage\n",
    "\n",
    "import PIL\n",
    "import os\n",
    "import os.path\n",
    "from PIL import Image"
   ]
  },
  {
   "cell_type": "code",
   "execution_count": null,
   "metadata": {},
   "outputs": [],
   "source": [
    "#Resize the images from various sizes to 512x512 and store them in 'Resized_images_zalando'\n",
    "#Resizing them makes them 32 bits\n",
    "\n",
    "f = r'C:/Users/Beheerder/Documents/JADS 2.2/Thesis/Not_resized_images_zalando'\n",
    "i = r'C:/Users/Beheerder/Documents/JADS 2.2/Thesis/Intermediate_Save/f_img.png'\n",
    "final_path = r'C:/Users/Beheerder/Documents/JADS 2.2/Thesis/Resized_images_zalando/'\n",
    "\n",
    "for file in os.listdir(f):\n",
    "    f_img = f+\"/\"+file\n",
    "    img = Image.open(f_img).convert('RGB').save(i)\n",
    "    c_img = Image.open(i)\n",
    "    c_img = resizeimage.resize_contain(c_img, [512, 512])\n",
    "    c_img.save(final_path+file+'.png')"
   ]
  },
  {
   "cell_type": "code",
   "execution_count": null,
   "metadata": {},
   "outputs": [],
   "source": [
    "#Transform to RGB (24 bits) --> StyleGAN only accepts 24 bits images.\n",
    "\n",
    "file_path = r'C:/Users/Beheerder/Documents/JADS 2.2/Thesis/Resized_images_zalando'\n",
    "save_path = r'C:/Users/Beheerder/Documents/JADS 2.2/Thesis/Resized_images_zalando_24bits/'\n",
    "\n",
    "for file in os.listdir(file_path):\n",
    "    f_img = file_path+\"/\"+file\n",
    "    img = Image.open(f_img).convert('RGB').save(save_path+file+'.png')"
   ]
  }
 ],
 "metadata": {
  "kernelspec": {
   "display_name": "Python 3",
   "language": "python",
   "name": "python3"
  },
  "language_info": {
   "codemirror_mode": {
    "name": "ipython",
    "version": 3
   },
   "file_extension": ".py",
   "mimetype": "text/x-python",
   "name": "python",
   "nbconvert_exporter": "python",
   "pygments_lexer": "ipython3",
   "version": "3.7.3"
  }
 },
 "nbformat": 4,
 "nbformat_minor": 2
}
