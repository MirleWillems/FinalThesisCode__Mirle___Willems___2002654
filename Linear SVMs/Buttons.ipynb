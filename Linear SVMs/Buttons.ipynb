{
 "cells": [
  {
   "cell_type": "code",
   "execution_count": null,
   "id": "7dd46045",
   "metadata": {},
   "outputs": [],
   "source": [
    "pip install scikit-learn"
   ]
  },
  {
   "cell_type": "code",
   "execution_count": null,
   "id": "c739754f",
   "metadata": {},
   "outputs": [],
   "source": [
    "from __future__ import print_function\n",
    "import time\n",
    "\n",
    "#from sklearn.datasets import fetch_mldata\n",
    "from sklearn.decomposition import PCA\n",
    "from sklearn.manifold import TSNE\n",
    "%matplotlib inline\n",
    "import matplotlib.pyplot as plt\n",
    "from mpl_toolkits.mplot3d import Axes3D\n",
    "import seaborn as sns"
   ]
  },
  {
   "cell_type": "code",
   "execution_count": null,
   "id": "09eaf313",
   "metadata": {},
   "outputs": [],
   "source": [
    "import numpy as np\n",
    "import pickle\n",
    "import pandas as pd\n",
    "import sklearn as sk\n",
    "from sklearn.svm import LinearSVC\n",
    "from sklearn import metrics\n",
    "\n",
    "pickle_protocol = min(pickle.HIGHEST_PROTOCOL, 4)"
   ]
  },
  {
   "cell_type": "code",
   "execution_count": null,
   "id": "f294503c",
   "metadata": {},
   "outputs": [],
   "source": [
    "with open('//drive/Algemeen/Interns/Mirle Willems/CLASSIFIER DATA/Closures/Closure - Button/saved_model/3th ROUND BUTTON- 5.000 images - 2.500 keep/Closure_button_z_w_classified.pkl_pruned_dlatents_results.pkl', 'rb') as handle:\n",
    "        results = pickle.load(handle)      "
   ]
  },
  {
   "cell_type": "code",
   "execution_count": null,
   "id": "38661352",
   "metadata": {
    "scrolled": true
   },
   "outputs": [],
   "source": [
    "results"
   ]
  },
  {
   "cell_type": "code",
   "execution_count": null,
   "id": "fc2e57ed",
   "metadata": {},
   "outputs": [],
   "source": [
    "z = results['latents']\n",
    "w = results['dlatents']\n",
    "label = results['label']"
   ]
  },
  {
   "cell_type": "code",
   "execution_count": null,
   "id": "fe9fccd9",
   "metadata": {},
   "outputs": [],
   "source": [
    "print('1', list(label).count(1))\n",
    "print('0', list(label).count(0))"
   ]
  },
  {
   "cell_type": "markdown",
   "id": "ab2962d5",
   "metadata": {},
   "source": [
    "## SVM W"
   ]
  },
  {
   "cell_type": "code",
   "execution_count": null,
   "id": "85451ac2",
   "metadata": {},
   "outputs": [],
   "source": [
    "clf_w = LinearSVC(class_weight = 'balanced')#, max_iter = 10000)\n",
    "clf_w.fit(w, label)\n",
    "pred_w = clf_w.predict(w)\n",
    "\n",
    "print('svm_output = 1', list(pred_w).count(1))\n",
    "print('svm_output = 0', list(pred_w).count(0))\n",
    "print('Accuracy =', metrics.accuracy_score(label, pred_w))"
   ]
  },
  {
   "cell_type": "code",
   "execution_count": null,
   "id": "a9575bf3",
   "metadata": {},
   "outputs": [],
   "source": [
    "from sklearn import metrics\n",
    "\n",
    "metrics.confusion_matrix(label, pred_w)\n",
    "\n",
    "#print precision value of model\n",
    "precision = metrics.precision_score(label, pred_w)\n",
    "print(precision)\n",
    "\n",
    "#print recall value of model\n",
    "recall = metrics.recall_score(label, pred_w)\n",
    "print(recall)\n",
    "\n",
    "#print F-score\n",
    "print('F-score: ', (precision * recall * 2) / (precision + recall))"
   ]
  },
  {
   "cell_type": "code",
   "execution_count": null,
   "id": "237a567b",
   "metadata": {
    "scrolled": true
   },
   "outputs": [],
   "source": [
    "coef_w = clf_w.coef_\n",
    "coef_w"
   ]
  },
  {
   "cell_type": "markdown",
   "id": "cf01da95",
   "metadata": {},
   "source": [
    "## SVM Z"
   ]
  },
  {
   "cell_type": "code",
   "execution_count": null,
   "id": "b7f47625",
   "metadata": {},
   "outputs": [],
   "source": [
    "clf_z = LinearSVC(class_weight = 'balanced', max_iter = 10000)\n",
    "clf_z.fit(z, label)\n",
    "pred_z = clf_z.predict(z)\n",
    "\n",
    "print('svm_output = 1', list(pred_z).count(1))\n",
    "print('svm_output = 0', list(pred_z).count(0))\n",
    "print('Accuracy =', metrics.accuracy_score(label, pred_z))"
   ]
  },
  {
   "cell_type": "code",
   "execution_count": null,
   "id": "4d1ad3ea",
   "metadata": {
    "scrolled": true
   },
   "outputs": [],
   "source": [
    "coef_z = clf_z.coef_\n",
    "coef_z"
   ]
  },
  {
   "cell_type": "markdown",
   "id": "67a9a33e",
   "metadata": {},
   "source": [
    "## Save latent codes and coefficients of both Z and W"
   ]
  },
  {
   "cell_type": "markdown",
   "id": "945a9246",
   "metadata": {},
   "source": [
    "## W"
   ]
  },
  {
   "cell_type": "code",
   "execution_count": null,
   "id": "809f3d6d",
   "metadata": {},
   "outputs": [],
   "source": [
    "dlatent_image = w[1274]\n",
    "\n",
    "save_dlatent_image = '//drive/Algemeen/Interns/Mirle Willems/CLASSIFIER DATA/Closures/Closure - Button/saved_model/3th ROUND BUTTON- 5.000 images - 2.500 keep/dlatent_image.pkl'\n",
    "\n",
    "with open(save_dlatent_image, 'wb') as handle:\n",
    "    pickle.dump(dlatent_image, handle, protocol=pickle_protocol)"
   ]
  },
  {
   "cell_type": "code",
   "execution_count": null,
   "id": "91f0e83d",
   "metadata": {},
   "outputs": [],
   "source": [
    "save_svm_coef_dlatent = '//drive/Algemeen/Interns/Mirle Willems/CLASSIFIER DATA/Closures/Closure - Button/saved_model/3th ROUND BUTTON- 5.000 images - 2.500 keep/svm_coef_dlatent.pkl'\n",
    "\n",
    "with open(save_svm_coef_dlatent, 'wb') as handle:\n",
    "    pickle.dump(coef_w, handle, protocol=pickle_protocol)"
   ]
  },
  {
   "cell_type": "markdown",
   "id": "f674bdc4",
   "metadata": {},
   "source": [
    "## Z"
   ]
  },
  {
   "cell_type": "code",
   "execution_count": null,
   "id": "6f3154dc",
   "metadata": {},
   "outputs": [],
   "source": [
    "latent_image = z[1274]\n",
    "\n",
    "save_latent_image = '//drive/Algemeen/Interns/Mirle Willems/CLASSIFIER DATA/Closures/Closure - Button/saved_model/3th ROUND BUTTON- 5.000 images - 2.500 keep/latent_image.pkl'\n",
    "\n",
    "with open(save_latent_image, 'wb') as handle:\n",
    "    pickle.dump(latent_image, handle, protocol=pickle_protocol)"
   ]
  },
  {
   "cell_type": "code",
   "execution_count": null,
   "id": "647c76d9",
   "metadata": {},
   "outputs": [],
   "source": [
    "save_svm_coef_latent = '//drive/Algemeen/Interns/Mirle Willems/CLASSIFIER DATA/Closures/Closure - Button/saved_model/3th ROUND BUTTON- 5.000 images - 2.500 keep/svm_coef_latent.pkl'\n",
    "\n",
    "with open(save_svm_coef_latent, 'wb') as handle:\n",
    "    pickle.dump(coef_z, handle, protocol=pickle_protocol)"
   ]
  },
  {
   "cell_type": "markdown",
   "id": "853da15d",
   "metadata": {},
   "source": [
    "# Conditional Entropy"
   ]
  },
  {
   "cell_type": "code",
   "execution_count": null,
   "id": "d02d8554",
   "metadata": {},
   "outputs": [],
   "source": [
    "def prob_normalize(p):\n",
    "    p = np.asarray(p).astype(np.float32)\n",
    "    assert len(p.shape) == 2\n",
    "    return p / np.sum(p)\n",
    "\n",
    "def mutual_information(p):\n",
    "    p = prob_normalize(p)\n",
    "    px = np.sum(p, axis=1)\n",
    "    py = np.sum(p, axis=0)\n",
    "    result = 0.0\n",
    "    for x in range(p.shape[0]):\n",
    "        p_x = px[x]\n",
    "        for y in range(p.shape[1]):\n",
    "            p_xy = p[x][y]\n",
    "            p_y = py[y]\n",
    "            if p_xy > 0.0:\n",
    "                result += p_xy * np.log2(p_xy / (p_x * p_y)) # get bits as output\n",
    "    return result\n",
    "\n",
    "def entropy(p):\n",
    "    p = prob_normalize(p)\n",
    "    result = 0.0\n",
    "    for x in range(p.shape[0]):\n",
    "        for y in range(p.shape[1]):\n",
    "            p_xy = p[x][y]\n",
    "            if p_xy > 0.0:\n",
    "                result -= p_xy * np.log2(p_xy)\n",
    "    return result\n",
    "\n",
    "def conditional_entropy(p):\n",
    "    # H(Y|X) where X corresponds to axis 0, Y to axis 1\n",
    "    # i.e., How many bits of additional information are needed to where we are on axis 1 if we know where we are on axis 0?\n",
    "    p = prob_normalize(p)\n",
    "    y = np.sum(p, axis=0, keepdims=True) # marginalize to calculate H(Y)\n",
    "    return max(0.0, entropy(y) - mutual_information(p)) # can slip just below 0 due to FP inaccuracies, clean those up.\n",
    "\n",
    "# Calculate conditional entropy.\n",
    "p = [[np.mean([case == (row, col) for case in zip(pred_w, label)]) for col in (0, 1)] for row in (0, 1)]\n",
    "\n",
    "conditional_cross = conditional_entropy(p)\n",
    "\n",
    "print(conditional_cross)"
   ]
  },
  {
   "cell_type": "markdown",
   "id": "cbbc291c",
   "metadata": {},
   "source": [
    "## Visualisation T-sne"
   ]
  },
  {
   "cell_type": "code",
   "execution_count": null,
   "id": "ccbd104a",
   "metadata": {},
   "outputs": [],
   "source": [
    "time_start = time.time()\n",
    "tsne = TSNE(n_components=2, verbose=1, perplexity=40, n_iter=300)\n",
    "tsne_results = tsne.fit_transform(w)\n",
    "print('t-SNE done! Time elapsed: {} seconds'.format(time.time()-time_start))"
   ]
  },
  {
   "cell_type": "code",
   "execution_count": null,
   "id": "74008a76",
   "metadata": {
    "scrolled": false
   },
   "outputs": [],
   "source": [
    "#svm_inputs['tsne-2d-one'] = tsne_results[:,0]\n",
    "#svm_inputs['tsne-2d-two'] = tsne_results[:,1]\n",
    "plt.figure(figsize=(16,10))\n",
    "\n",
    "sns.scatterplot(\n",
    "    x=tsne_results[:,0], y=tsne_results[:,1],\n",
    "    hue=label,\n",
    "    #palette=sns.color_palette(\"hls\", 10),\n",
    "    data=w,\n",
    "    legend=\"full\",\n",
    "    alpha=0.3\n",
    ")"
   ]
  }
 ],
 "metadata": {
  "kernelspec": {
   "display_name": "Python 3",
   "language": "python",
   "name": "python3"
  },
  "language_info": {
   "codemirror_mode": {
    "name": "ipython",
    "version": 3
   },
   "file_extension": ".py",
   "mimetype": "text/x-python",
   "name": "python",
   "nbconvert_exporter": "python",
   "pygments_lexer": "ipython3",
   "version": "3.8.8"
  }
 },
 "nbformat": 4,
 "nbformat_minor": 5
}
