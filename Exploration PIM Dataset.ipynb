{
 "cells": [
  {
   "cell_type": "code",
   "execution_count": null,
   "metadata": {},
   "outputs": [],
   "source": [
    "from resizeimage import resizeimage\n",
    "import glob\n",
    "import pandas as pd\n",
    "import PIL\n",
    "import os\n",
    "import os.path\n",
    "from PIL import Image"
   ]
  },
  {
   "cell_type": "markdown",
   "metadata": {},
   "source": [
    "First the file names of the images were loaded and checked if all images were unique. Next, the PIM dataset was loaded and only the information of the images inside of the dataset were kept. Thereafter, duplicates were removed."
   ]
  },
  {
   "cell_type": "code",
   "execution_count": null,
   "metadata": {},
   "outputs": [],
   "source": [
    "df = []\n",
    "\n",
    "for name in glob.glob('C:/Users/Beheerder/Documents/JADS 2.2/Thesis/Data/zalando_dataset_filtered_2/*'):\n",
    "    print(name[77:90])\n",
    "    df.append(name[77:90])"
   ]
  },
  {
   "cell_type": "code",
   "execution_count": null,
   "metadata": {},
   "outputs": [],
   "source": [
    "#Test if all images are unique\n",
    "if len(df) > len(set(df)):\n",
    "    pass\n",
    "else:\n",
    "    print('no')\n"
   ]
  },
  {
   "cell_type": "code",
   "execution_count": null,
   "metadata": {},
   "outputs": [],
   "source": [
    "df_pim = pd.read_excel('Data coats Zalando.xlsx')\n",
    "df_pim"
   ]
  },
  {
   "cell_type": "code",
   "execution_count": null,
   "metadata": {},
   "outputs": [],
   "source": [
    "if len(df_pim[\"Artikelnummer\"]) > len(set(df_pim[\"Artikelnummer\"])):\n",
    "    pass\n",
    "else:\n",
    "    print('no')"
   ]
  },
  {
   "cell_type": "code",
   "execution_count": null,
   "metadata": {},
   "outputs": [],
   "source": [
    "df_pim_final = df_pim.loc[df_pim['Artikelnummer'].isin(df)]"
   ]
  },
  {
   "cell_type": "code",
   "execution_count": null,
   "metadata": {},
   "outputs": [],
   "source": [
    "df_pim_final.duplicated().any()"
   ]
  },
  {
   "cell_type": "code",
   "execution_count": null,
   "metadata": {},
   "outputs": [],
   "source": [
    "df_pim_final = df_pim_final.drop_duplicates(subset = 'Artikelnummer', keep='first')"
   ]
  },
  {
   "cell_type": "code",
   "execution_count": null,
   "metadata": {},
   "outputs": [],
   "source": [
    "df_pim_final"
   ]
  },
  {
   "cell_type": "markdown",
   "metadata": {},
   "source": [
    "The NA's were checked"
   ]
  },
  {
   "cell_type": "code",
   "execution_count": null,
   "metadata": {},
   "outputs": [],
   "source": [
    "df_pim_final.isna().sum()"
   ]
  },
  {
   "cell_type": "code",
   "execution_count": null,
   "metadata": {},
   "outputs": [],
   "source": [
    "len(df_pim_final.columns)"
   ]
  },
  {
   "cell_type": "markdown",
   "metadata": {},
   "source": [
    "Only the relevant attributes established in the taxonomy were kept"
   ]
  },
  {
   "cell_type": "code",
   "execution_count": null,
   "metadata": {},
   "outputs": [],
   "source": [
    "df_pim_final.columns"
   ]
  },
  {
   "cell_type": "code",
   "execution_count": null,
   "metadata": {},
   "outputs": [],
   "source": [
    "df_pim_filtered = df_pim_final[['ProductNaam', 'Kleur', 'Totale lengte', 'Lengte', 'Pasvorm', 'Model',\n",
    "                                'Mouwlengte', 'Sluiting','Patroon', 'Materiaal buitenlaag', 'Material', 'Halslijn / kraag', \n",
    "                                'Artikelnummer', 'Capuchon', 'Details capuchon', 'Halslijn', 'Functie'\n",
    "                 ]]\n",
    "\n",
    "df_pim_filtered\n",
    "len(df_pim_filtered.columns)"
   ]
  },
  {
   "cell_type": "code",
   "execution_count": null,
   "metadata": {},
   "outputs": [],
   "source": [
    "df_taxonomy = df_pim_final[['ProductNaam', 'Artikelnummer' ,'Totale lengte', 'Lengte',  \n",
    "                             'Sluiting', 'Halslijn / kraag', 'Halslijn',\n",
    "                                 'Capuchon'\n",
    "                 ]]\n",
    "df_taxonomy\n",
    "len(df_taxonomy.columns)"
   ]
  },
  {
   "cell_type": "markdown",
   "metadata": {},
   "source": [
    "Check NA's filtered datasets "
   ]
  },
  {
   "cell_type": "code",
   "execution_count": null,
   "metadata": {},
   "outputs": [],
   "source": [
    "df_pim_filtered.isna().sum()"
   ]
  },
  {
   "cell_type": "code",
   "execution_count": null,
   "metadata": {},
   "outputs": [],
   "source": [
    "df_taxonomy.isna().sum()"
   ]
  },
  {
   "cell_type": "markdown",
   "metadata": {},
   "source": [
    "# Examine PIM dataset"
   ]
  },
  {
   "cell_type": "markdown",
   "metadata": {},
   "source": [
    "### Mouwlengte"
   ]
  },
  {
   "cell_type": "code",
   "execution_count": null,
   "metadata": {},
   "outputs": [],
   "source": [
    "df_pim_filtered['Mouwlengte'].value_counts()"
   ]
  },
  {
   "cell_type": "markdown",
   "metadata": {},
   "source": [
    "### Capuchon"
   ]
  },
  {
   "cell_type": "code",
   "execution_count": null,
   "metadata": {},
   "outputs": [],
   "source": [
    "df_pim_filtered['Capuchon'].value_counts()"
   ]
  },
  {
   "cell_type": "code",
   "execution_count": null,
   "metadata": {},
   "outputs": [],
   "source": [
    "df_pim_filtered['Halslijn / kraag'].value_counts()"
   ]
  },
  {
   "cell_type": "code",
   "execution_count": null,
   "metadata": {},
   "outputs": [],
   "source": [
    "df_pim_filtered[['Artikelnummer', 'Capuchon', 'Halslijn / kraag']].loc[df_pim_filtered_final['Halslijn / kraag'] == \n",
    "                                                                 'Capuchon']"
   ]
  },
  {
   "cell_type": "markdown",
   "metadata": {},
   "source": [
    "### Effen / Patroon"
   ]
  },
  {
   "cell_type": "code",
   "execution_count": null,
   "metadata": {},
   "outputs": [],
   "source": [
    "df_pim_filtered['Patroon'].value_counts()"
   ]
  },
  {
   "cell_type": "markdown",
   "metadata": {},
   "source": [
    "### Sluiting"
   ]
  },
  {
   "cell_type": "code",
   "execution_count": null,
   "metadata": {},
   "outputs": [],
   "source": [
    "df_pim_filtered['Sluiting'].value_counts()"
   ]
  },
  {
   "cell_type": "markdown",
   "metadata": {},
   "source": [
    "### Lengte"
   ]
  },
  {
   "cell_type": "code",
   "execution_count": null,
   "metadata": {},
   "outputs": [],
   "source": [
    "df_pim_filtered['Lengte'].value_counts()"
   ]
  },
  {
   "cell_type": "code",
   "execution_count": null,
   "metadata": {},
   "outputs": [],
   "source": [
    "df_pim_filtered['Totale lengte'].value_counts()"
   ]
  },
  {
   "cell_type": "markdown",
   "metadata": {},
   "source": [
    "### Pasvorm"
   ]
  },
  {
   "cell_type": "code",
   "execution_count": null,
   "metadata": {},
   "outputs": [],
   "source": [
    "df_pim_filtered['Pasvorm'].value_counts() "
   ]
  },
  {
   "cell_type": "markdown",
   "metadata": {},
   "source": [
    "### Halslijn / Kraag"
   ]
  },
  {
   "cell_type": "code",
   "execution_count": null,
   "metadata": {},
   "outputs": [],
   "source": [
    "df_pim_filtered['Halslijn / kraag'].value_counts() "
   ]
  },
  {
   "cell_type": "markdown",
   "metadata": {},
   "source": [
    "### Materiaal"
   ]
  },
  {
   "cell_type": "code",
   "execution_count": null,
   "metadata": {},
   "outputs": [],
   "source": [
    "df_pim_filtered['Materiaal buitenlaag'].value_counts() "
   ]
  },
  {
   "cell_type": "markdown",
   "metadata": {},
   "source": [
    "### Kleur"
   ]
  },
  {
   "cell_type": "code",
   "execution_count": null,
   "metadata": {},
   "outputs": [],
   "source": [
    "df_pim_filtered['Kleur'].value_counts()"
   ]
  },
  {
   "cell_type": "markdown",
   "metadata": {},
   "source": [
    "# Inconsistencies and Errors"
   ]
  },
  {
   "cell_type": "markdown",
   "metadata": {},
   "source": [
    "## Length"
   ]
  },
  {
   "cell_type": "markdown",
   "metadata": {},
   "source": [
    "When filtered on length 'normal' there are inconsistency of 30 cm for example (both measured on size 36. When filtered on length 'dijbeen' = hip length there are inconsistency of more than 45 cm when the shortest 44cm is based on size 44 and longest on size 36 which was 90 cm.\n",
    "\n",
    "Dit is inconsistent en om 1 lijn te trekken is er besloten om dit zelf met de hand te gaan labelen\n",
    "\n",
    "Allebei 44 cm --> een labeled als dijbeen de ander als kort"
   ]
  },
  {
   "cell_type": "code",
   "execution_count": null,
   "metadata": {},
   "outputs": [],
   "source": [
    "df_pim_filtered_final.loc[df_pim_filtered_final['Artikelnummer'] == '1MY21G04J-Q11']\n",
    "\n",
    "#sluitng: ritssluiting --> maar is in werkelijkheid een blinde rits met knopen "
   ]
  },
  {
   "cell_type": "code",
   "execution_count": null,
   "metadata": {},
   "outputs": [],
   "source": [
    "img = Image.open(r'C:/Users/Beheerder/Documents/JADS 2.2/Thesis/Data/zalando_dataset_filtered_2/1MY21G04J-Q11_2.jpg')\n",
    "img"
   ]
  },
  {
   "cell_type": "code",
   "execution_count": null,
   "metadata": {},
   "outputs": [],
   "source": [
    "df_pim_filtered_final.loc[df_pim_filtered_final['Lengte'] == 'Dijlengte']"
   ]
  },
  {
   "cell_type": "code",
   "execution_count": null,
   "metadata": {},
   "outputs": [],
   "source": [
    "df_pim_filtered_final.loc[df_pim_filtered_final['Artikelnummer'] == 'NM321G05Q-Q11']"
   ]
  },
  {
   "cell_type": "code",
   "execution_count": null,
   "metadata": {},
   "outputs": [],
   "source": [
    "img = Image.open(r'C:/Users/Beheerder/Documents/JADS 2.2/Thesis/Data/zalando_dataset_filtered_2/NM321G05Q-Q11_1.jpg')\n",
    "img"
   ]
  },
  {
   "cell_type": "code",
   "execution_count": null,
   "metadata": {},
   "outputs": [],
   "source": [
    "df_pim_filtered_final.loc[df_pim_filtered_final['Artikelnummer'] == 'PE321G012-A11']"
   ]
  },
  {
   "cell_type": "code",
   "execution_count": null,
   "metadata": {},
   "outputs": [],
   "source": [
    "img = Image.open(r'C:/Users/Beheerder/Documents/JADS 2.2/Thesis/Data/zalando_dataset_filtered_2/PE321G012-A11_12.jpg')\n",
    "img"
   ]
  },
  {
   "cell_type": "code",
   "execution_count": null,
   "metadata": {},
   "outputs": [],
   "source": [
    "df_pim_filtered_final.loc[df_pim_filtered_final['Artikelnummer'] == 'MSA21U00N-K11']"
   ]
  },
  {
   "cell_type": "code",
   "execution_count": null,
   "metadata": {},
   "outputs": [],
   "source": [
    "img = Image.open(r'C:/Users/Beheerder/Documents/JADS 2.2/Thesis/Data/zalando_dataset_filtered_2/MSA21U00N-K11_12.jpg')\n",
    "img"
   ]
  },
  {
   "cell_type": "code",
   "execution_count": null,
   "metadata": {},
   "outputs": [],
   "source": [
    "df_pim_filtered_final.loc[df_pim_filtered_final['Artikelnummer'] == 'ETE21G000-B11']"
   ]
  },
  {
   "cell_type": "code",
   "execution_count": null,
   "metadata": {},
   "outputs": [],
   "source": [
    "img = Image.open(r'C:/Users/Beheerder/Documents/JADS 2.2/Thesis/Data/zalando_dataset_filtered_2/ETE21G000-B11_4.jpg')\n",
    "img"
   ]
  },
  {
   "cell_type": "code",
   "execution_count": null,
   "metadata": {},
   "outputs": [],
   "source": [
    "df_pim_filtered_final.loc[df_pim_filtered_final['Artikelnummer'] == 'ON321U0GS-K11']"
   ]
  },
  {
   "cell_type": "code",
   "execution_count": null,
   "metadata": {},
   "outputs": [],
   "source": [
    "img = Image.open(r'C:/Users/Beheerder/Documents/JADS 2.2/Thesis/Data/zalando_dataset_filtered_2/ON321U0GS-K11_19.jpg')\n",
    "img"
   ]
  },
  {
   "cell_type": "code",
   "execution_count": null,
   "metadata": {},
   "outputs": [],
   "source": [
    "df_pim_filtered_final.loc[df_pim_filtered_final['Artikelnummer'] == 'SO221I12Z-C11']"
   ]
  },
  {
   "cell_type": "code",
   "execution_count": null,
   "metadata": {},
   "outputs": [],
   "source": [
    "img = Image.open(r'C:/Users/Beheerder/Documents/JADS 2.2/Thesis/Data/zalando_dataset_filtered_2/SO221I12Z-C11_15.jpg')\n",
    "img"
   ]
  },
  {
   "cell_type": "markdown",
   "metadata": {},
   "source": [
    "## Closures"
   ]
  },
  {
   "cell_type": "markdown",
   "metadata": {},
   "source": [
    "There are a lot of jackets with a hidden zipper and buttons on top. These jackets have therefore two closures, of which one is visible (buttons). For image classification this visible attribute is more important than something that it cannot see and therefore detect. That is why it was chosen to manual label the closures as well. Because you do not know which 'ritssluiting' is a traditional zipper and which 'ritssluiting' is an example of hidden zipper and buttons on top. "
   ]
  },
  {
   "cell_type": "code",
   "execution_count": null,
   "metadata": {},
   "outputs": [],
   "source": [
    "df_pim_filtered_final.loc[df_pim_filtered_final['Artikelnummer'] == '1MY21G03H-K11']"
   ]
  },
  {
   "cell_type": "code",
   "execution_count": null,
   "metadata": {},
   "outputs": [],
   "source": [
    "img = Image.open(r'C:/Users/Beheerder/Documents/JADS 2.2/Thesis/Data/zalando_dataset_filtered_2/1MY21G03H-K11_5.jpg')\n",
    "img"
   ]
  },
  {
   "cell_type": "code",
   "execution_count": null,
   "metadata": {},
   "outputs": [],
   "source": [
    "df_pim_filtered_final.loc[df_pim_filtered_final['Artikelnummer'] == '1MY21G04B-Q11']"
   ]
  },
  {
   "cell_type": "code",
   "execution_count": null,
   "metadata": {},
   "outputs": [],
   "source": [
    "img = Image.open(r'C:/Users/Beheerder/Documents/JADS 2.2/Thesis/Data/zalando_dataset_filtered_2/1MY21G04B-Q11_14.jpg')\n",
    "img"
   ]
  },
  {
   "cell_type": "code",
   "execution_count": null,
   "metadata": {},
   "outputs": [],
   "source": [
    "df_pim_filtered_final.loc[df_pim_filtered_final['Artikelnummer'] == 'IC621U015-N11']"
   ]
  },
  {
   "cell_type": "code",
   "execution_count": null,
   "metadata": {},
   "outputs": [],
   "source": [
    "img = Image.open(r'C:/Users/Beheerder/Documents/JADS 2.2/Thesis/Data/zalando_dataset_filtered_2/IC621U015-N11_10.jpg')\n",
    "img\n",
    "\n",
    "#Can be stated as hidden zipper with buttons on top, or as misclassified"
   ]
  },
  {
   "cell_type": "code",
   "execution_count": null,
   "metadata": {},
   "outputs": [],
   "source": [
    "df_pim_filtered_final.loc[df_pim_filtered_final['Artikelnummer'] == '4DR21G06K-E11']"
   ]
  },
  {
   "cell_type": "code",
   "execution_count": null,
   "metadata": {},
   "outputs": [],
   "source": [
    "img = Image.open(r'C:/Users/Beheerder/Documents/JADS 2.2/Thesis/Data/zalando_dataset_filtered_2/4DR21G06K-E11_2.jpg')\n",
    "img\n",
    "\n",
    "#Actually a hidden zipper, not the same as a traditional zipper"
   ]
  },
  {
   "cell_type": "code",
   "execution_count": null,
   "metadata": {},
   "outputs": [],
   "source": [
    "df_pim_filtered_final.loc[df_pim_filtered_final['Artikelnummer'] == '4DR21G06I-B11']"
   ]
  },
  {
   "cell_type": "code",
   "execution_count": null,
   "metadata": {},
   "outputs": [],
   "source": [
    "img = Image.open(r'C:/Users/Beheerder/Documents/JADS 2.2/Thesis/Data/zalando_dataset_filtered_2/4DR21G06I-B11_2.jpg')\n",
    "img\n",
    "\n",
    "#traditional zipper is visually different than a hidden zipper, but is both classified as zipper. Therefore, decided to manually label"
   ]
  },
  {
   "cell_type": "code",
   "execution_count": null,
   "metadata": {},
   "outputs": [],
   "source": [
    "df_pim_filtered_final.loc[df_pim_filtered_final['Artikelnummer'] == '4T021G017-J11']"
   ]
  },
  {
   "cell_type": "code",
   "execution_count": null,
   "metadata": {},
   "outputs": [],
   "source": [
    "img = Image.open(r'C:/Users/Beheerder/Documents/JADS 2.2/Thesis/Data/zalando_dataset_filtered_2/4T021G017-J11_9.jpg')\n",
    "img\n",
    "\n",
    "#wrongfully labelled as button closure. There is no button only a waitband. "
   ]
  },
  {
   "cell_type": "code",
   "execution_count": null,
   "metadata": {},
   "outputs": [],
   "source": [
    "df_pim_filtered_final.loc[df_pim_filtered_final['Artikelnummer'] == '4BE21G03M-G11']"
   ]
  },
  {
   "cell_type": "code",
   "execution_count": null,
   "metadata": {},
   "outputs": [],
   "source": [
    "img = Image.open(r'C:/Users/Beheerder/Documents/JADS 2.2/Thesis/Data/zalando_dataset_filtered_2/4BE21G03M-G11_13.jpg')\n",
    "img\n",
    "\n",
    "#this is similar jacket at previous but correctly labelled as one with a button closure"
   ]
  },
  {
   "cell_type": "code",
   "execution_count": null,
   "metadata": {},
   "outputs": [],
   "source": [
    "df_pim_filtered_final.loc[df_pim_filtered_final['Artikelnummer'] == 'M9121U0OF-O11']"
   ]
  },
  {
   "cell_type": "markdown",
   "metadata": {},
   "source": [
    "## Capuchon"
   ]
  },
  {
   "cell_type": "markdown",
   "metadata": {},
   "source": [
    "Too many NA's "
   ]
  },
  {
   "cell_type": "code",
   "execution_count": null,
   "metadata": {},
   "outputs": [],
   "source": [
    "df_pim_filtered_final['Capuchon'].isna().sum()"
   ]
  }
 ],
 "metadata": {
  "kernelspec": {
   "display_name": "Python 3",
   "language": "python",
   "name": "python3"
  },
  "language_info": {
   "codemirror_mode": {
    "name": "ipython",
    "version": 3
   },
   "file_extension": ".py",
   "mimetype": "text/x-python",
   "name": "python",
   "nbconvert_exporter": "python",
   "pygments_lexer": "ipython3",
   "version": "3.7.3"
  }
 },
 "nbformat": 4,
 "nbformat_minor": 2
}
