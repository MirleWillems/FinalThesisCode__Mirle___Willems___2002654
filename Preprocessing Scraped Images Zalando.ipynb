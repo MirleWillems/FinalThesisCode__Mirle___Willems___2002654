{
 "cells": [
  {
   "cell_type": "code",
   "execution_count": 1,
   "metadata": {
    "scrolled": true
   },
   "outputs": [
    {
     "name": "stdout",
     "output_type": "stream",
     "text": [
      "Collecting python-resize-image\n",
      "  Downloading https://files.pythonhosted.org/packages/bc/89/008481c95551992e1a77503eba490b75fd17c0a98e33dd4dc39e0b99e5e8/python_resize_image-1.1.19-py2.py3-none-any.whl\n",
      "Requirement already satisfied: requests>=2.19.1 in c:\\users\\beheerder\\anaconda3\\lib\\site-packages (from python-resize-image) (2.22.0)\n",
      "Requirement already satisfied: Pillow>=5.1.0 in c:\\users\\beheerder\\anaconda3\\lib\\site-packages (from python-resize-image) (6.1.0)\n",
      "Requirement already satisfied: idna<2.9,>=2.5 in c:\\users\\beheerder\\anaconda3\\lib\\site-packages (from requests>=2.19.1->python-resize-image) (2.8)\n",
      "Requirement already satisfied: certifi>=2017.4.17 in c:\\users\\beheerder\\anaconda3\\lib\\site-packages (from requests>=2.19.1->python-resize-image) (2019.6.16)\n",
      "Requirement already satisfied: urllib3!=1.25.0,!=1.25.1,<1.26,>=1.21.1 in c:\\users\\beheerder\\anaconda3\\lib\\site-packages (from requests>=2.19.1->python-resize-image) (1.24.2)\n",
      "Requirement already satisfied: chardet<3.1.0,>=3.0.2 in c:\\users\\beheerder\\anaconda3\\lib\\site-packages (from requests>=2.19.1->python-resize-image) (3.0.4)\n",
      "Installing collected packages: python-resize-image\n",
      "Successfully installed python-resize-image-1.1.19\n",
      "Note: you may need to restart the kernel to use updated packages.\n"
     ]
    }
   ],
   "source": [
    "pip install python-resize-image"
   ]
  },
  {
   "cell_type": "code",
   "execution_count": 1,
   "metadata": {},
   "outputs": [],
   "source": [
    "from resizeimage import resizeimage\n",
    "\n",
    "import PIL\n",
    "import os\n",
    "import os.path\n",
    "from PIL import Image"
   ]
  },
  {
   "cell_type": "code",
   "execution_count": 3,
   "metadata": {},
   "outputs": [],
   "source": [
    "#Resize the images from various sizes to 512x512 and store them in 'Resized_images_zalando'\n",
    "#Resizing them makes them 32 bits\n",
    "\n",
    "f = r'C:/Users/Beheerder/Documents/JADS 2.2/Thesis/Not_resized_images_zalando'\n",
    "i = r'C:/Users/Beheerder/Documents/JADS 2.2/Thesis/Intermediate_Save/f_img.png'\n",
    "final_path = r'C:/Users/Beheerder/Documents/JADS 2.2/Thesis/Resized_images_zalando/'\n",
    "\n",
    "for file in os.listdir(f):\n",
    "    f_img = f+\"/\"+file\n",
    "    img = Image.open(f_img).convert('RGB').save(i)\n",
    "    c_img = Image.open(i)\n",
    "    c_img = resizeimage.resize_contain(c_img, [512, 512])\n",
    "    c_img.save(final_path+file+'.png')"
   ]
  },
  {
   "cell_type": "code",
   "execution_count": 5,
   "metadata": {},
   "outputs": [],
   "source": [
    "#Transform to RGB (24 bits) --> StyleGAN only accepts 24 bits images.\n",
    "\n",
    "file_path = r'C:/Users/Beheerder/Documents/JADS 2.2/Thesis/Resized_images_zalando'\n",
    "save_path = r'C:/Users/Beheerder/Documents/JADS 2.2/Thesis/Resized_images_zalando_24bits/'\n",
    "\n",
    "for file in os.listdir(file_path):\n",
    "    f_img = file_path+\"/\"+file\n",
    "    img = Image.open(f_img).convert('RGB').save(save_path+file+'.png')"
   ]
  }
 ],
 "metadata": {
  "kernelspec": {
   "display_name": "Python 3",
   "language": "python",
   "name": "python3"
  },
  "language_info": {
   "codemirror_mode": {
    "name": "ipython",
    "version": 3
   },
   "file_extension": ".py",
   "mimetype": "text/x-python",
   "name": "python",
   "nbconvert_exporter": "python",
   "pygments_lexer": "ipython3",
   "version": "3.7.3"
  }
 },
 "nbformat": 4,
 "nbformat_minor": 2
}
